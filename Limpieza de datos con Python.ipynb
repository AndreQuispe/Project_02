{
 "cells": [
  {
   "cell_type": "code",
   "execution_count": 1,
   "id": "0691409c",
   "metadata": {},
   "outputs": [],
   "source": [
    "import pandas as pd\n",
    "import numpy as np\n",
    "import os"
   ]
  },
  {
   "cell_type": "code",
   "execution_count": 2,
   "id": "a568ed14",
   "metadata": {},
   "outputs": [],
   "source": [
    "raw_data_path = r'C:\\Users\\ANDRE\\Desktop\\Gladys (19 - 22)\\raw data'\n",
    "raw_data_path = raw_data_path.replace('\\\\','/')"
   ]
  },
  {
   "cell_type": "code",
   "execution_count": 3,
   "id": "5cf6a4c8",
   "metadata": {},
   "outputs": [
    {
     "data": {
      "text/plain": [
       "['GRACU_DM_HTA_X_FECHAS.xlsx']"
      ]
     },
     "execution_count": 3,
     "metadata": {},
     "output_type": "execute_result"
    }
   ],
   "source": [
    "os.listdir(raw_data_path)"
   ]
  },
  {
   "cell_type": "code",
   "execution_count": 4,
   "id": "73bed3fc",
   "metadata": {},
   "outputs": [],
   "source": [
    "df = pd.read_excel(raw_data_path+'/GRACU_DM_HTA_X_FECHAS.xlsx', sheet_name=None)"
   ]
  },
  {
   "cell_type": "code",
   "execution_count": 5,
   "id": "fb1db011",
   "metadata": {},
   "outputs": [
    {
     "data": {
      "text/plain": [
       "dict_keys(['111', '112', '113', '114', '115', '116', '118', '119', '120', '121', '123', '126', '134', '373', '418', '510', '513', '698'])"
      ]
     },
     "execution_count": 5,
     "metadata": {},
     "output_type": "execute_result"
    }
   ],
   "source": [
    "df.keys()"
   ]
  },
  {
   "cell_type": "code",
   "execution_count": 6,
   "id": "48d43d09",
   "metadata": {},
   "outputs": [],
   "source": [
    "df = pd.concat(df.values(), ignore_index=True)"
   ]
  },
  {
   "cell_type": "code",
   "execution_count": 7,
   "id": "8295f33e",
   "metadata": {},
   "outputs": [
    {
     "data": {
      "text/plain": [
       "(74383, 13)"
      ]
     },
     "execution_count": 7,
     "metadata": {},
     "output_type": "execute_result"
    }
   ],
   "source": [
    "df.shape"
   ]
  },
  {
   "cell_type": "markdown",
   "id": "038ba87c",
   "metadata": {},
   "source": [
    "#  1. Evaluando individualidad pacientes"
   ]
  },
  {
   "cell_type": "code",
   "execution_count": 8,
   "id": "7ad1c067",
   "metadata": {},
   "outputs": [
    {
     "data": {
      "text/plain": [
       "PACIENTE        27332\n",
       "DOC_PACIENTE    23262\n",
       "AUTOGENERADO    23343\n",
       "dtype: int64"
      ]
     },
     "execution_count": 8,
     "metadata": {},
     "output_type": "execute_result"
    }
   ],
   "source": [
    "df[['PACIENTE','DOC_PACIENTE','AUTOGENERADO']].nunique()"
   ]
  },
  {
   "cell_type": "code",
   "execution_count": null,
   "id": "510037e9",
   "metadata": {},
   "outputs": [],
   "source": []
  },
  {
   "cell_type": "code",
   "execution_count": null,
   "id": "be3ff1d8",
   "metadata": {},
   "outputs": [],
   "source": []
  },
  {
   "cell_type": "code",
   "execution_count": 9,
   "id": "dbfb91a1",
   "metadata": {},
   "outputs": [],
   "source": [
    "# Cantidad de 'AUTOGENERADO' por 'DNI'"
   ]
  },
  {
   "cell_type": "code",
   "execution_count": 10,
   "id": "c9f29ab3",
   "metadata": {},
   "outputs": [],
   "source": [
    "dni_cntAutogenerado = df.groupby('DOC_PACIENTE',as_index=False).AUTOGENERADO.nunique()"
   ]
  },
  {
   "cell_type": "code",
   "execution_count": 11,
   "id": "eebc97bb",
   "metadata": {},
   "outputs": [],
   "source": [
    "dni_de_variosAutogenerados = dni_cntAutogenerado[dni_cntAutogenerado.AUTOGENERADO >= 2][['DOC_PACIENTE']]"
   ]
  },
  {
   "cell_type": "code",
   "execution_count": 12,
   "id": "760c7bfa",
   "metadata": {},
   "outputs": [],
   "source": [
    "dni_de_variosAutogenerados['cnt_autogenerado_xDNI'] = range(1, len(dni_de_variosAutogenerados) + 1)\n",
    "dni_de_variosAutogenerados['cnt_autogenerado_xDNI'] = 'Numero_'+ dni_de_variosAutogenerados['cnt_autogenerado_xDNI'].astype(str)"
   ]
  },
  {
   "cell_type": "code",
   "execution_count": 13,
   "id": "3f6ba01c",
   "metadata": {},
   "outputs": [
    {
     "data": {
      "text/html": [
       "<div>\n",
       "<style scoped>\n",
       "    .dataframe tbody tr th:only-of-type {\n",
       "        vertical-align: middle;\n",
       "    }\n",
       "\n",
       "    .dataframe tbody tr th {\n",
       "        vertical-align: top;\n",
       "    }\n",
       "\n",
       "    .dataframe thead th {\n",
       "        text-align: right;\n",
       "    }\n",
       "</style>\n",
       "<table border=\"1\" class=\"dataframe\">\n",
       "  <thead>\n",
       "    <tr style=\"text-align: right;\">\n",
       "      <th></th>\n",
       "      <th>DOC_PACIENTE</th>\n",
       "      <th>cnt_autogenerado_xDNI</th>\n",
       "    </tr>\n",
       "  </thead>\n",
       "  <tbody>\n",
       "    <tr>\n",
       "      <th>109</th>\n",
       "      <td>1235803</td>\n",
       "      <td>Numero_1</td>\n",
       "    </tr>\n",
       "    <tr>\n",
       "      <th>290</th>\n",
       "      <td>2845283</td>\n",
       "      <td>Numero_2</td>\n",
       "    </tr>\n",
       "  </tbody>\n",
       "</table>\n",
       "</div>"
      ],
      "text/plain": [
       "     DOC_PACIENTE cnt_autogenerado_xDNI\n",
       "109       1235803              Numero_1\n",
       "290       2845283              Numero_2"
      ]
     },
     "execution_count": 13,
     "metadata": {},
     "output_type": "execute_result"
    }
   ],
   "source": [
    "dni_de_variosAutogenerados.head(2)"
   ]
  },
  {
   "cell_type": "code",
   "execution_count": 14,
   "id": "04e64dda",
   "metadata": {},
   "outputs": [
    {
     "data": {
      "text/html": [
       "<div>\n",
       "<style scoped>\n",
       "    .dataframe tbody tr th:only-of-type {\n",
       "        vertical-align: middle;\n",
       "    }\n",
       "\n",
       "    .dataframe tbody tr th {\n",
       "        vertical-align: top;\n",
       "    }\n",
       "\n",
       "    .dataframe thead th {\n",
       "        text-align: right;\n",
       "    }\n",
       "</style>\n",
       "<table border=\"1\" class=\"dataframe\">\n",
       "  <thead>\n",
       "    <tr style=\"text-align: right;\">\n",
       "      <th></th>\n",
       "      <th>CENTRO</th>\n",
       "      <th>ADSCRITO</th>\n",
       "      <th>DOC_PACIENTE</th>\n",
       "      <th>PACIENTE</th>\n",
       "      <th>AUTOGENERADO</th>\n",
       "      <th>SEXO</th>\n",
       "      <th>EDAD</th>\n",
       "      <th>MORB_1</th>\n",
       "      <th>MORB_2</th>\n",
       "      <th>2019_F</th>\n",
       "      <th>2020_F</th>\n",
       "      <th>2021_F</th>\n",
       "      <th>2022_F</th>\n",
       "    </tr>\n",
       "  </thead>\n",
       "  <tbody>\n",
       "    <tr>\n",
       "      <th>0</th>\n",
       "      <td>111</td>\n",
       "      <td>123.0</td>\n",
       "      <td>25120054</td>\n",
       "      <td>ABAL DE MARTINEZ NARCISA</td>\n",
       "      <td>3501020ALMTN004</td>\n",
       "      <td>F</td>\n",
       "      <td>83</td>\n",
       "      <td>NaN</td>\n",
       "      <td>HTA</td>\n",
       "      <td>2019-03-26</td>\n",
       "      <td>NaT</td>\n",
       "      <td>NaT</td>\n",
       "      <td>NaT</td>\n",
       "    </tr>\n",
       "    <tr>\n",
       "      <th>1</th>\n",
       "      <td>111</td>\n",
       "      <td>418.0</td>\n",
       "      <td>23877208</td>\n",
       "      <td>ABAL ESPINOZA TOMAS</td>\n",
       "      <td>3809181ALEIT001</td>\n",
       "      <td>M</td>\n",
       "      <td>80</td>\n",
       "      <td>DM</td>\n",
       "      <td>NaN</td>\n",
       "      <td>2019-09-02</td>\n",
       "      <td>NaT</td>\n",
       "      <td>NaT</td>\n",
       "      <td>NaT</td>\n",
       "    </tr>\n",
       "  </tbody>\n",
       "</table>\n",
       "</div>"
      ],
      "text/plain": [
       "   CENTRO  ADSCRITO  DOC_PACIENTE                  PACIENTE     AUTOGENERADO  \\\n",
       "0     111     123.0      25120054  ABAL DE MARTINEZ NARCISA  3501020ALMTN004   \n",
       "1     111     418.0      23877208       ABAL ESPINOZA TOMAS  3809181ALEIT001   \n",
       "\n",
       "  SEXO  EDAD MORB_1 MORB_2     2019_F 2020_F 2021_F 2022_F  \n",
       "0    F    83    NaN    HTA 2019-03-26    NaT    NaT    NaT  \n",
       "1    M    80     DM    NaN 2019-09-02    NaT    NaT    NaT  "
      ]
     },
     "execution_count": 14,
     "metadata": {},
     "output_type": "execute_result"
    }
   ],
   "source": [
    "df.head(2)"
   ]
  },
  {
   "cell_type": "code",
   "execution_count": 15,
   "id": "13c71883",
   "metadata": {},
   "outputs": [],
   "source": [
    "df = df.merge(dni_de_variosAutogenerados, on='DOC_PACIENTE',how='left')"
   ]
  },
  {
   "cell_type": "code",
   "execution_count": 16,
   "id": "472b6fb7",
   "metadata": {},
   "outputs": [],
   "source": [
    "varios_autogenerado_xDNI = df[df.cnt_autogenerado_xDNI.notnull()]"
   ]
  },
  {
   "cell_type": "code",
   "execution_count": 17,
   "id": "8b17acf5",
   "metadata": {},
   "outputs": [
    {
     "data": {
      "text/html": [
       "<div>\n",
       "<style scoped>\n",
       "    .dataframe tbody tr th:only-of-type {\n",
       "        vertical-align: middle;\n",
       "    }\n",
       "\n",
       "    .dataframe tbody tr th {\n",
       "        vertical-align: top;\n",
       "    }\n",
       "\n",
       "    .dataframe thead th {\n",
       "        text-align: right;\n",
       "    }\n",
       "</style>\n",
       "<table border=\"1\" class=\"dataframe\">\n",
       "  <thead>\n",
       "    <tr style=\"text-align: right;\">\n",
       "      <th></th>\n",
       "      <th>CENTRO</th>\n",
       "      <th>ADSCRITO</th>\n",
       "      <th>DOC_PACIENTE</th>\n",
       "      <th>PACIENTE</th>\n",
       "      <th>AUTOGENERADO</th>\n",
       "      <th>SEXO</th>\n",
       "      <th>EDAD</th>\n",
       "      <th>MORB_1</th>\n",
       "      <th>MORB_2</th>\n",
       "      <th>2019_F</th>\n",
       "      <th>2020_F</th>\n",
       "      <th>2021_F</th>\n",
       "      <th>2022_F</th>\n",
       "      <th>cnt_autogenerado_xDNI</th>\n",
       "    </tr>\n",
       "  </thead>\n",
       "  <tbody>\n",
       "    <tr>\n",
       "      <th>223</th>\n",
       "      <td>111</td>\n",
       "      <td>418.0</td>\n",
       "      <td>23812077</td>\n",
       "      <td>AGUILAR VDA DE CACERES MARIA</td>\n",
       "      <td>4010110AICEM009</td>\n",
       "      <td>F</td>\n",
       "      <td>78</td>\n",
       "      <td>NaN</td>\n",
       "      <td>HTA</td>\n",
       "      <td>2019-06-05</td>\n",
       "      <td>NaT</td>\n",
       "      <td>NaT</td>\n",
       "      <td>NaT</td>\n",
       "      <td>Numero_12</td>\n",
       "    </tr>\n",
       "    <tr>\n",
       "      <th>228</th>\n",
       "      <td>111</td>\n",
       "      <td>418.0</td>\n",
       "      <td>23812077</td>\n",
       "      <td>AGUILAR XXX VDA DE CACERES MARIA ROSARIO</td>\n",
       "      <td>4010060AICEM006</td>\n",
       "      <td>F</td>\n",
       "      <td>80</td>\n",
       "      <td>NaN</td>\n",
       "      <td>HTA</td>\n",
       "      <td>NaT</td>\n",
       "      <td>NaT</td>\n",
       "      <td>2021-03-01</td>\n",
       "      <td>NaT</td>\n",
       "      <td>Numero_12</td>\n",
       "    </tr>\n",
       "  </tbody>\n",
       "</table>\n",
       "</div>"
      ],
      "text/plain": [
       "     CENTRO  ADSCRITO  DOC_PACIENTE                                  PACIENTE  \\\n",
       "223     111     418.0      23812077              AGUILAR VDA DE CACERES MARIA   \n",
       "228     111     418.0      23812077  AGUILAR XXX VDA DE CACERES MARIA ROSARIO   \n",
       "\n",
       "        AUTOGENERADO SEXO  EDAD MORB_1 MORB_2     2019_F 2020_F     2021_F  \\\n",
       "223  4010110AICEM009    F    78    NaN    HTA 2019-06-05    NaT        NaT   \n",
       "228  4010060AICEM006    F    80    NaN    HTA        NaT    NaT 2021-03-01   \n",
       "\n",
       "    2022_F cnt_autogenerado_xDNI  \n",
       "223    NaT             Numero_12  \n",
       "228    NaT             Numero_12  "
      ]
     },
     "execution_count": 17,
     "metadata": {},
     "output_type": "execute_result"
    }
   ],
   "source": [
    "varios_autogenerado_xDNI.head(2)"
   ]
  },
  {
   "cell_type": "code",
   "execution_count": null,
   "id": "a8a2e1da",
   "metadata": {},
   "outputs": [],
   "source": []
  },
  {
   "cell_type": "code",
   "execution_count": null,
   "id": "8c2d9d49",
   "metadata": {},
   "outputs": [],
   "source": []
  },
  {
   "cell_type": "code",
   "execution_count": null,
   "id": "0a9650bb",
   "metadata": {},
   "outputs": [],
   "source": []
  },
  {
   "cell_type": "code",
   "execution_count": 18,
   "id": "7fbe6ef6",
   "metadata": {},
   "outputs": [],
   "source": [
    "# Cantidad 'DNI' por 'AUTOGENERADO'"
   ]
  },
  {
   "cell_type": "code",
   "execution_count": 19,
   "id": "3de9de6c",
   "metadata": {},
   "outputs": [],
   "source": [
    "autogenerado_cntDNI = df.groupby('AUTOGENERADO',as_index=False).DOC_PACIENTE.nunique()"
   ]
  },
  {
   "cell_type": "code",
   "execution_count": 20,
   "id": "8fc109dd",
   "metadata": {},
   "outputs": [],
   "source": [
    "autogenerado_de_variosDNI = autogenerado_cntDNI[autogenerado_cntDNI.DOC_PACIENTE >= 2][['AUTOGENERADO']]"
   ]
  },
  {
   "cell_type": "code",
   "execution_count": 21,
   "id": "1ff80a3b",
   "metadata": {},
   "outputs": [],
   "source": [
    "autogenerado_de_variosDNI['cnt_dni_xAUTOGENERADO'] = range(1, len(autogenerado_de_variosDNI) + 1)\n",
    "autogenerado_de_variosDNI['cnt_dni_xAUTOGENERADO'] = 'Numero_'+ autogenerado_de_variosDNI['cnt_dni_xAUTOGENERADO'].astype(str)"
   ]
  },
  {
   "cell_type": "code",
   "execution_count": 22,
   "id": "571d35ae",
   "metadata": {},
   "outputs": [
    {
     "data": {
      "text/html": [
       "<div>\n",
       "<style scoped>\n",
       "    .dataframe tbody tr th:only-of-type {\n",
       "        vertical-align: middle;\n",
       "    }\n",
       "\n",
       "    .dataframe tbody tr th {\n",
       "        vertical-align: top;\n",
       "    }\n",
       "\n",
       "    .dataframe thead th {\n",
       "        text-align: right;\n",
       "    }\n",
       "</style>\n",
       "<table border=\"1\" class=\"dataframe\">\n",
       "  <thead>\n",
       "    <tr style=\"text-align: right;\">\n",
       "      <th></th>\n",
       "      <th>AUTOGENERADO</th>\n",
       "      <th>cnt_dni_xAUTOGENERADO</th>\n",
       "    </tr>\n",
       "  </thead>\n",
       "  <tbody>\n",
       "    <tr>\n",
       "      <th>42</th>\n",
       "      <td>0710111RBAND007</td>\n",
       "      <td>Numero_1</td>\n",
       "    </tr>\n",
       "  </tbody>\n",
       "</table>\n",
       "</div>"
      ],
      "text/plain": [
       "       AUTOGENERADO cnt_dni_xAUTOGENERADO\n",
       "42  0710111RBAND007              Numero_1"
      ]
     },
     "execution_count": 22,
     "metadata": {},
     "output_type": "execute_result"
    }
   ],
   "source": [
    "autogenerado_de_variosDNI"
   ]
  },
  {
   "cell_type": "code",
   "execution_count": 23,
   "id": "1415886b",
   "metadata": {},
   "outputs": [],
   "source": [
    "df = df.merge(autogenerado_de_variosDNI, on='AUTOGENERADO', how='left')"
   ]
  },
  {
   "cell_type": "code",
   "execution_count": 24,
   "id": "e47d5cf9",
   "metadata": {},
   "outputs": [],
   "source": [
    "varios_dni_xAutogenerado = df[df.cnt_dni_xAUTOGENERADO.notnull()]"
   ]
  },
  {
   "cell_type": "code",
   "execution_count": 25,
   "id": "eab44b5b",
   "metadata": {},
   "outputs": [
    {
     "data": {
      "text/html": [
       "<div>\n",
       "<style scoped>\n",
       "    .dataframe tbody tr th:only-of-type {\n",
       "        vertical-align: middle;\n",
       "    }\n",
       "\n",
       "    .dataframe tbody tr th {\n",
       "        vertical-align: top;\n",
       "    }\n",
       "\n",
       "    .dataframe thead th {\n",
       "        text-align: right;\n",
       "    }\n",
       "</style>\n",
       "<table border=\"1\" class=\"dataframe\">\n",
       "  <thead>\n",
       "    <tr style=\"text-align: right;\">\n",
       "      <th></th>\n",
       "      <th>CENTRO</th>\n",
       "      <th>ADSCRITO</th>\n",
       "      <th>DOC_PACIENTE</th>\n",
       "      <th>PACIENTE</th>\n",
       "      <th>AUTOGENERADO</th>\n",
       "      <th>SEXO</th>\n",
       "      <th>EDAD</th>\n",
       "      <th>MORB_1</th>\n",
       "      <th>MORB_2</th>\n",
       "      <th>2019_F</th>\n",
       "      <th>2020_F</th>\n",
       "      <th>2021_F</th>\n",
       "      <th>2022_F</th>\n",
       "      <th>cnt_autogenerado_xDNI</th>\n",
       "      <th>cnt_dni_xAUTOGENERADO</th>\n",
       "    </tr>\n",
       "  </thead>\n",
       "  <tbody>\n",
       "    <tr>\n",
       "      <th>14182</th>\n",
       "      <td>111</td>\n",
       "      <td>NaN</td>\n",
       "      <td>3003720</td>\n",
       "      <td>RUMBOS ARANGUIBEL DIEGO</td>\n",
       "      <td>0710111RBAND007</td>\n",
       "      <td>M</td>\n",
       "      <td>11</td>\n",
       "      <td>DM</td>\n",
       "      <td>NaN</td>\n",
       "      <td>2019-08-13</td>\n",
       "      <td>NaT</td>\n",
       "      <td>NaT</td>\n",
       "      <td>NaT</td>\n",
       "      <td>NaN</td>\n",
       "      <td>Numero_1</td>\n",
       "    </tr>\n",
       "    <tr>\n",
       "      <th>14183</th>\n",
       "      <td>111</td>\n",
       "      <td>NaN</td>\n",
       "      <td>122705672</td>\n",
       "      <td>RUMBOS ARANGUIBEL DIEGO ALEXANDER</td>\n",
       "      <td>0710111RBAND007</td>\n",
       "      <td>M</td>\n",
       "      <td>13</td>\n",
       "      <td>DM</td>\n",
       "      <td>NaN</td>\n",
       "      <td>NaT</td>\n",
       "      <td>NaT</td>\n",
       "      <td>2021-03-31</td>\n",
       "      <td>NaT</td>\n",
       "      <td>NaN</td>\n",
       "      <td>Numero_1</td>\n",
       "    </tr>\n",
       "    <tr>\n",
       "      <th>14184</th>\n",
       "      <td>111</td>\n",
       "      <td>NaN</td>\n",
       "      <td>122705672</td>\n",
       "      <td>RUMBOS ARANGUIBEL DIEGO ALEXANDER</td>\n",
       "      <td>0710111RBAND007</td>\n",
       "      <td>M</td>\n",
       "      <td>14</td>\n",
       "      <td>DM</td>\n",
       "      <td>NaN</td>\n",
       "      <td>NaT</td>\n",
       "      <td>NaT</td>\n",
       "      <td>2021-12-06</td>\n",
       "      <td>NaT</td>\n",
       "      <td>NaN</td>\n",
       "      <td>Numero_1</td>\n",
       "    </tr>\n",
       "    <tr>\n",
       "      <th>14185</th>\n",
       "      <td>111</td>\n",
       "      <td>NaN</td>\n",
       "      <td>3003720</td>\n",
       "      <td>RUMBOS ARANGUIBEL DIEGO ALEXANDER</td>\n",
       "      <td>0710111RBAND007</td>\n",
       "      <td>M</td>\n",
       "      <td>14</td>\n",
       "      <td>DM</td>\n",
       "      <td>NaN</td>\n",
       "      <td>NaT</td>\n",
       "      <td>NaT</td>\n",
       "      <td>NaT</td>\n",
       "      <td>2022-01-18</td>\n",
       "      <td>NaN</td>\n",
       "      <td>Numero_1</td>\n",
       "    </tr>\n",
       "    <tr>\n",
       "      <th>38125</th>\n",
       "      <td>126</td>\n",
       "      <td>NaN</td>\n",
       "      <td>3003720</td>\n",
       "      <td>RUMBOS ARANGUIBEL DIEGO</td>\n",
       "      <td>0710111RBAND007</td>\n",
       "      <td>M</td>\n",
       "      <td>11</td>\n",
       "      <td>DM</td>\n",
       "      <td>NaN</td>\n",
       "      <td>2019-06-18</td>\n",
       "      <td>NaT</td>\n",
       "      <td>NaT</td>\n",
       "      <td>NaT</td>\n",
       "      <td>NaN</td>\n",
       "      <td>Numero_1</td>\n",
       "    </tr>\n",
       "  </tbody>\n",
       "</table>\n",
       "</div>"
      ],
      "text/plain": [
       "       CENTRO  ADSCRITO  DOC_PACIENTE                           PACIENTE  \\\n",
       "14182     111       NaN       3003720            RUMBOS ARANGUIBEL DIEGO   \n",
       "14183     111       NaN     122705672  RUMBOS ARANGUIBEL DIEGO ALEXANDER   \n",
       "14184     111       NaN     122705672  RUMBOS ARANGUIBEL DIEGO ALEXANDER   \n",
       "14185     111       NaN       3003720  RUMBOS ARANGUIBEL DIEGO ALEXANDER   \n",
       "38125     126       NaN       3003720            RUMBOS ARANGUIBEL DIEGO   \n",
       "\n",
       "          AUTOGENERADO SEXO  EDAD MORB_1 MORB_2     2019_F 2020_F     2021_F  \\\n",
       "14182  0710111RBAND007    M    11     DM    NaN 2019-08-13    NaT        NaT   \n",
       "14183  0710111RBAND007    M    13     DM    NaN        NaT    NaT 2021-03-31   \n",
       "14184  0710111RBAND007    M    14     DM    NaN        NaT    NaT 2021-12-06   \n",
       "14185  0710111RBAND007    M    14     DM    NaN        NaT    NaT        NaT   \n",
       "38125  0710111RBAND007    M    11     DM    NaN 2019-06-18    NaT        NaT   \n",
       "\n",
       "          2022_F cnt_autogenerado_xDNI cnt_dni_xAUTOGENERADO  \n",
       "14182        NaT                   NaN              Numero_1  \n",
       "14183        NaT                   NaN              Numero_1  \n",
       "14184        NaT                   NaN              Numero_1  \n",
       "14185 2022-01-18                   NaN              Numero_1  \n",
       "38125        NaT                   NaN              Numero_1  "
      ]
     },
     "execution_count": 25,
     "metadata": {},
     "output_type": "execute_result"
    }
   ],
   "source": [
    "varios_dni_xAutogenerado"
   ]
  },
  {
   "cell_type": "code",
   "execution_count": null,
   "id": "9e58ffcf",
   "metadata": {},
   "outputs": [],
   "source": []
  },
  {
   "cell_type": "code",
   "execution_count": null,
   "id": "95334998",
   "metadata": {},
   "outputs": [],
   "source": []
  },
  {
   "cell_type": "code",
   "execution_count": null,
   "id": "dd3ec88f",
   "metadata": {},
   "outputs": [],
   "source": []
  },
  {
   "cell_type": "code",
   "execution_count": 26,
   "id": "ad0fa5f8",
   "metadata": {},
   "outputs": [],
   "source": [
    "# Cantidad de 'PACIENTES' por 'DNI'"
   ]
  },
  {
   "cell_type": "code",
   "execution_count": 27,
   "id": "a80989f5",
   "metadata": {},
   "outputs": [],
   "source": [
    "dni_cntPACIENTE = df.groupby('DOC_PACIENTE',as_index=False).PACIENTE.nunique()"
   ]
  },
  {
   "cell_type": "code",
   "execution_count": 28,
   "id": "53263009",
   "metadata": {},
   "outputs": [],
   "source": [
    "dni_de_variosPACIENTE = dni_cntPACIENTE[dni_cntPACIENTE.PACIENTE >= 2][['DOC_PACIENTE']]"
   ]
  },
  {
   "cell_type": "code",
   "execution_count": 29,
   "id": "8e399a23",
   "metadata": {},
   "outputs": [],
   "source": [
    "dni_de_variosPACIENTE['cnt_paciente_xDNI'] = range(1, len(dni_de_variosPACIENTE)+1)\n",
    "dni_de_variosPACIENTE['cnt_paciente_xDNI'] = 'Numero_' + dni_de_variosPACIENTE['cnt_paciente_xDNI'].astype(str)"
   ]
  },
  {
   "cell_type": "code",
   "execution_count": 30,
   "id": "4f096e67",
   "metadata": {},
   "outputs": [
    {
     "data": {
      "text/html": [
       "<div>\n",
       "<style scoped>\n",
       "    .dataframe tbody tr th:only-of-type {\n",
       "        vertical-align: middle;\n",
       "    }\n",
       "\n",
       "    .dataframe tbody tr th {\n",
       "        vertical-align: top;\n",
       "    }\n",
       "\n",
       "    .dataframe thead th {\n",
       "        text-align: right;\n",
       "    }\n",
       "</style>\n",
       "<table border=\"1\" class=\"dataframe\">\n",
       "  <thead>\n",
       "    <tr style=\"text-align: right;\">\n",
       "      <th></th>\n",
       "      <th>DOC_PACIENTE</th>\n",
       "      <th>cnt_paciente_xDNI</th>\n",
       "    </tr>\n",
       "  </thead>\n",
       "  <tbody>\n",
       "    <tr>\n",
       "      <th>4</th>\n",
       "      <td>25248</td>\n",
       "      <td>Numero_1</td>\n",
       "    </tr>\n",
       "    <tr>\n",
       "      <th>15</th>\n",
       "      <td>122159</td>\n",
       "      <td>Numero_2</td>\n",
       "    </tr>\n",
       "    <tr>\n",
       "      <th>16</th>\n",
       "      <td>164309</td>\n",
       "      <td>Numero_3</td>\n",
       "    </tr>\n",
       "  </tbody>\n",
       "</table>\n",
       "</div>"
      ],
      "text/plain": [
       "    DOC_PACIENTE cnt_paciente_xDNI\n",
       "4          25248          Numero_1\n",
       "15        122159          Numero_2\n",
       "16        164309          Numero_3"
      ]
     },
     "execution_count": 30,
     "metadata": {},
     "output_type": "execute_result"
    }
   ],
   "source": [
    "dni_de_variosPACIENTE.head(3)"
   ]
  },
  {
   "cell_type": "code",
   "execution_count": 31,
   "id": "edd984fb",
   "metadata": {},
   "outputs": [
    {
     "data": {
      "text/html": [
       "<div>\n",
       "<style scoped>\n",
       "    .dataframe tbody tr th:only-of-type {\n",
       "        vertical-align: middle;\n",
       "    }\n",
       "\n",
       "    .dataframe tbody tr th {\n",
       "        vertical-align: top;\n",
       "    }\n",
       "\n",
       "    .dataframe thead th {\n",
       "        text-align: right;\n",
       "    }\n",
       "</style>\n",
       "<table border=\"1\" class=\"dataframe\">\n",
       "  <thead>\n",
       "    <tr style=\"text-align: right;\">\n",
       "      <th></th>\n",
       "      <th>CENTRO</th>\n",
       "      <th>ADSCRITO</th>\n",
       "      <th>DOC_PACIENTE</th>\n",
       "      <th>PACIENTE</th>\n",
       "      <th>AUTOGENERADO</th>\n",
       "      <th>SEXO</th>\n",
       "      <th>EDAD</th>\n",
       "      <th>MORB_1</th>\n",
       "      <th>MORB_2</th>\n",
       "      <th>2019_F</th>\n",
       "      <th>2020_F</th>\n",
       "      <th>2021_F</th>\n",
       "      <th>2022_F</th>\n",
       "      <th>cnt_autogenerado_xDNI</th>\n",
       "      <th>cnt_dni_xAUTOGENERADO</th>\n",
       "    </tr>\n",
       "  </thead>\n",
       "  <tbody>\n",
       "    <tr>\n",
       "      <th>0</th>\n",
       "      <td>111</td>\n",
       "      <td>123.0</td>\n",
       "      <td>25120054</td>\n",
       "      <td>ABAL DE MARTINEZ NARCISA</td>\n",
       "      <td>3501020ALMTN004</td>\n",
       "      <td>F</td>\n",
       "      <td>83</td>\n",
       "      <td>NaN</td>\n",
       "      <td>HTA</td>\n",
       "      <td>2019-03-26</td>\n",
       "      <td>NaT</td>\n",
       "      <td>NaT</td>\n",
       "      <td>NaT</td>\n",
       "      <td>NaN</td>\n",
       "      <td>NaN</td>\n",
       "    </tr>\n",
       "    <tr>\n",
       "      <th>1</th>\n",
       "      <td>111</td>\n",
       "      <td>418.0</td>\n",
       "      <td>23877208</td>\n",
       "      <td>ABAL ESPINOZA TOMAS</td>\n",
       "      <td>3809181ALEIT001</td>\n",
       "      <td>M</td>\n",
       "      <td>80</td>\n",
       "      <td>DM</td>\n",
       "      <td>NaN</td>\n",
       "      <td>2019-09-02</td>\n",
       "      <td>NaT</td>\n",
       "      <td>NaT</td>\n",
       "      <td>NaT</td>\n",
       "      <td>NaN</td>\n",
       "      <td>NaN</td>\n",
       "    </tr>\n",
       "  </tbody>\n",
       "</table>\n",
       "</div>"
      ],
      "text/plain": [
       "   CENTRO  ADSCRITO  DOC_PACIENTE                  PACIENTE     AUTOGENERADO  \\\n",
       "0     111     123.0      25120054  ABAL DE MARTINEZ NARCISA  3501020ALMTN004   \n",
       "1     111     418.0      23877208       ABAL ESPINOZA TOMAS  3809181ALEIT001   \n",
       "\n",
       "  SEXO  EDAD MORB_1 MORB_2     2019_F 2020_F 2021_F 2022_F  \\\n",
       "0    F    83    NaN    HTA 2019-03-26    NaT    NaT    NaT   \n",
       "1    M    80     DM    NaN 2019-09-02    NaT    NaT    NaT   \n",
       "\n",
       "  cnt_autogenerado_xDNI cnt_dni_xAUTOGENERADO  \n",
       "0                   NaN                   NaN  \n",
       "1                   NaN                   NaN  "
      ]
     },
     "execution_count": 31,
     "metadata": {},
     "output_type": "execute_result"
    }
   ],
   "source": [
    "df.head(2)"
   ]
  },
  {
   "cell_type": "code",
   "execution_count": 32,
   "id": "2f215b9f",
   "metadata": {},
   "outputs": [],
   "source": [
    "df = df.merge(dni_de_variosPACIENTE, on='DOC_PACIENTE', how='left')"
   ]
  },
  {
   "cell_type": "code",
   "execution_count": null,
   "id": "7dc94d86",
   "metadata": {},
   "outputs": [],
   "source": []
  },
  {
   "cell_type": "code",
   "execution_count": 33,
   "id": "ce6a80d1",
   "metadata": {},
   "outputs": [],
   "source": [
    "clean_path= r'C:\\Users\\ANDRE\\Desktop\\Gladys (19 - 22)\\cleaned data'\n",
    "clean_path = clean_path.replace('\\\\','/')"
   ]
  },
  {
   "cell_type": "code",
   "execution_count": null,
   "id": "a1f11ee2",
   "metadata": {},
   "outputs": [],
   "source": []
  },
  {
   "cell_type": "code",
   "execution_count": 34,
   "id": "97a19508",
   "metadata": {},
   "outputs": [],
   "source": [
    "cnt_deAUTOGENERADO_xDNI = df[df.cnt_autogenerado_xDNI.notnull()].iloc[:,0:13]"
   ]
  },
  {
   "cell_type": "code",
   "execution_count": 35,
   "id": "b55e9bf0",
   "metadata": {},
   "outputs": [],
   "source": [
    "cnt_deDNI_xAUTOGENERADO = df[df.cnt_dni_xAUTOGENERADO.notnull()].iloc[:,0:13]"
   ]
  },
  {
   "cell_type": "code",
   "execution_count": 36,
   "id": "2262f11b",
   "metadata": {},
   "outputs": [],
   "source": [
    "cnt_dePACIENTE_xDNI = df[df.cnt_paciente_xDNI.notnull()].iloc[:,0:13]"
   ]
  },
  {
   "cell_type": "code",
   "execution_count": null,
   "id": "18a5bde5",
   "metadata": {},
   "outputs": [],
   "source": []
  },
  {
   "cell_type": "code",
   "execution_count": 37,
   "id": "650bf987",
   "metadata": {},
   "outputs": [
    {
     "name": "stdout",
     "output_type": "stream",
     "text": [
      "Requirement already satisfied: xlsxwriter in c:\\users\\andre\\anaconda3\\lib\\site-packages (3.1.9)\n"
     ]
    }
   ],
   "source": [
    "!pip install xlsxwriter"
   ]
  },
  {
   "cell_type": "code",
   "execution_count": null,
   "id": "1a97dcea",
   "metadata": {},
   "outputs": [],
   "source": []
  },
  {
   "cell_type": "markdown",
   "id": "4959d628",
   "metadata": {},
   "source": [
    "# Modificando nombres y dni"
   ]
  },
  {
   "cell_type": "code",
   "execution_count": 38,
   "id": "f1357405",
   "metadata": {},
   "outputs": [],
   "source": [
    "table = df.copy()"
   ]
  },
  {
   "cell_type": "code",
   "execution_count": 39,
   "id": "e82590a8",
   "metadata": {},
   "outputs": [],
   "source": [
    "table = table.iloc[:,0:13]"
   ]
  },
  {
   "cell_type": "code",
   "execution_count": null,
   "id": "08b309f0",
   "metadata": {},
   "outputs": [],
   "source": []
  },
  {
   "cell_type": "code",
   "execution_count": null,
   "id": "36ce3a7b",
   "metadata": {},
   "outputs": [],
   "source": []
  },
  {
   "cell_type": "code",
   "execution_count": 40,
   "id": "4f2817c2",
   "metadata": {},
   "outputs": [],
   "source": [
    "# Modificando AUTOGENERADO, en funcion de unico DNI"
   ]
  },
  {
   "cell_type": "code",
   "execution_count": 41,
   "id": "45730ce2",
   "metadata": {},
   "outputs": [],
   "source": [
    "nuevo_autogenerado = cnt_deAUTOGENERADO_xDNI.groupby('DOC_PACIENTE',as_index=False).AUTOGENERADO.first()"
   ]
  },
  {
   "cell_type": "code",
   "execution_count": 42,
   "id": "c97f70e7",
   "metadata": {},
   "outputs": [],
   "source": [
    "table = table.merge(nuevo_autogenerado, on='DOC_PACIENTE',how='left')"
   ]
  },
  {
   "cell_type": "code",
   "execution_count": 43,
   "id": "2b0f5160",
   "metadata": {},
   "outputs": [],
   "source": [
    "table['AUTOGENERADO'] = table.apply(lambda row: row.AUTOGENERADO_x if pd.isnull(row.AUTOGENERADO_y) else row.AUTOGENERADO_y, axis=1)"
   ]
  },
  {
   "cell_type": "code",
   "execution_count": 44,
   "id": "8c9ac360",
   "metadata": {},
   "outputs": [],
   "source": [
    "table.drop(columns=['AUTOGENERADO_x','AUTOGENERADO_y'], inplace=True)"
   ]
  },
  {
   "cell_type": "code",
   "execution_count": null,
   "id": "a5f5fb3f",
   "metadata": {},
   "outputs": [],
   "source": []
  },
  {
   "cell_type": "code",
   "execution_count": 45,
   "id": "2fe32538",
   "metadata": {},
   "outputs": [],
   "source": [
    "# Modificando DNI, en funcion de AUTOGENERADO"
   ]
  },
  {
   "cell_type": "code",
   "execution_count": 46,
   "id": "f1daf504",
   "metadata": {},
   "outputs": [],
   "source": [
    "nuevo_dni = cnt_deDNI_xAUTOGENERADO.groupby('AUTOGENERADO',as_index=False).DOC_PACIENTE.first()"
   ]
  },
  {
   "cell_type": "code",
   "execution_count": 47,
   "id": "7096e54c",
   "metadata": {},
   "outputs": [],
   "source": [
    "table = table.merge(nuevo_dni, on='AUTOGENERADO', how='left')"
   ]
  },
  {
   "cell_type": "code",
   "execution_count": 48,
   "id": "8df5a51a",
   "metadata": {},
   "outputs": [],
   "source": [
    "table['DOC_PACIENTE'] = table.apply(lambda row: row.DOC_PACIENTE_x if pd.isnull(row.DOC_PACIENTE_y) else row.DOC_PACIENTE_y, axis=1)"
   ]
  },
  {
   "cell_type": "code",
   "execution_count": 49,
   "id": "ff9c8ef7",
   "metadata": {},
   "outputs": [],
   "source": [
    "table.drop(columns=['DOC_PACIENTE_x','DOC_PACIENTE_y'], inplace=True)"
   ]
  },
  {
   "cell_type": "code",
   "execution_count": null,
   "id": "59315116",
   "metadata": {},
   "outputs": [],
   "source": []
  },
  {
   "cell_type": "code",
   "execution_count": 50,
   "id": "44651937",
   "metadata": {},
   "outputs": [],
   "source": [
    "# Modificando Nombres, en funcion de DNI"
   ]
  },
  {
   "cell_type": "code",
   "execution_count": 51,
   "id": "e42f0f17",
   "metadata": {},
   "outputs": [],
   "source": [
    "table['DOC_PACIENTE'] = table['DOC_PACIENTE'].astype(float).astype(int).astype(str)"
   ]
  },
  {
   "cell_type": "code",
   "execution_count": 52,
   "id": "f109a08b",
   "metadata": {
    "scrolled": true
   },
   "outputs": [],
   "source": [
    "cnt_de_pacientes_por_dni = table.groupby('DOC_PACIENTE',as_index=False).PACIENTE.nunique()"
   ]
  },
  {
   "cell_type": "code",
   "execution_count": 53,
   "id": "32aa3f5a",
   "metadata": {},
   "outputs": [
    {
     "data": {
      "text/plain": [
       "PACIENTE\n",
       "1    19193\n",
       "2     4057\n",
       "3       11\n",
       "Name: count, dtype: int64"
      ]
     },
     "execution_count": 53,
     "metadata": {},
     "output_type": "execute_result"
    }
   ],
   "source": [
    "cnt_de_pacientes_por_dni.PACIENTE.value_counts()"
   ]
  },
  {
   "cell_type": "code",
   "execution_count": 54,
   "id": "f8403d5c",
   "metadata": {},
   "outputs": [],
   "source": [
    "mask_1 = cnt_de_pacientes_por_dni[cnt_de_pacientes_por_dni.PACIENTE == 2]['DOC_PACIENTE']"
   ]
  },
  {
   "cell_type": "code",
   "execution_count": 55,
   "id": "20a68b4e",
   "metadata": {},
   "outputs": [],
   "source": [
    "mask_2 = cnt_de_pacientes_por_dni[cnt_de_pacientes_por_dni.PACIENTE == 3]['DOC_PACIENTE']"
   ]
  },
  {
   "cell_type": "code",
   "execution_count": null,
   "id": "61693879",
   "metadata": {},
   "outputs": [],
   "source": []
  },
  {
   "cell_type": "code",
   "execution_count": 56,
   "id": "7bee5dae",
   "metadata": {},
   "outputs": [],
   "source": [
    "tres_nombres_por_dni = table[table.DOC_PACIENTE.isin(mask_2)]"
   ]
  },
  {
   "cell_type": "code",
   "execution_count": 57,
   "id": "c3800f7b",
   "metadata": {},
   "outputs": [],
   "source": [
    "dos_nombres_por_dni = table[table.DOC_PACIENTE.isin(mask_1)]"
   ]
  },
  {
   "cell_type": "code",
   "execution_count": 58,
   "id": "7933fb5e",
   "metadata": {},
   "outputs": [],
   "source": [
    "excel_file_path= clean_path+'/inconsistencia_pacientes.xlsx'\n",
    "with pd.ExcelWriter(excel_file_path, engine='xlsxwriter') as writer:\n",
    "    tres_nombres_por_dni.to_excel(writer, sheet_name='tres_nombres_por_dni', index=False)\n",
    "    dos_nombres_por_dni.to_excel(writer, sheet_name='dos_nombres_por_dni', index=False)\n",
    "    cnt_deAUTOGENERADO_xDNI.to_excel(writer, sheet_name='cnt_deAUTOGENERADO_xDNI', index=False)\n",
    "    cnt_deDNI_xAUTOGENERADO.to_excel(writer, sheet_name='cnt_deDNI_xAUTOGENERADO', index=False)\n",
    "    cnt_dePACIENTE_xDNI.to_excel(writer, sheet_name='cnt_dePACIENTE_xDNI', index=False)    \n"
   ]
  },
  {
   "cell_type": "code",
   "execution_count": null,
   "id": "df5b62ab",
   "metadata": {},
   "outputs": [],
   "source": []
  },
  {
   "cell_type": "code",
   "execution_count": 59,
   "id": "e06c0e60",
   "metadata": {},
   "outputs": [],
   "source": [
    "# Modificando lo nombres de los pacientes al mas largo, en funcion del DNI"
   ]
  },
  {
   "cell_type": "code",
   "execution_count": 60,
   "id": "6885ad80",
   "metadata": {},
   "outputs": [],
   "source": [
    "table['len']=table.PACIENTE.str.len()"
   ]
  },
  {
   "cell_type": "code",
   "execution_count": 61,
   "id": "aad0f99d",
   "metadata": {},
   "outputs": [],
   "source": [
    "table.sort_values(['DOC_PACIENTE','len'],ascending=[True,False], inplace=True)"
   ]
  },
  {
   "cell_type": "code",
   "execution_count": null,
   "id": "afba17ce",
   "metadata": {},
   "outputs": [],
   "source": []
  },
  {
   "cell_type": "code",
   "execution_count": 62,
   "id": "cd454125",
   "metadata": {},
   "outputs": [
    {
     "data": {
      "text/html": [
       "<div>\n",
       "<style scoped>\n",
       "    .dataframe tbody tr th:only-of-type {\n",
       "        vertical-align: middle;\n",
       "    }\n",
       "\n",
       "    .dataframe tbody tr th {\n",
       "        vertical-align: top;\n",
       "    }\n",
       "\n",
       "    .dataframe thead th {\n",
       "        text-align: right;\n",
       "    }\n",
       "</style>\n",
       "<table border=\"1\" class=\"dataframe\">\n",
       "  <thead>\n",
       "    <tr style=\"text-align: right;\">\n",
       "      <th></th>\n",
       "      <th>CENTRO</th>\n",
       "      <th>ADSCRITO</th>\n",
       "      <th>PACIENTE</th>\n",
       "      <th>SEXO</th>\n",
       "      <th>EDAD</th>\n",
       "      <th>MORB_1</th>\n",
       "      <th>MORB_2</th>\n",
       "      <th>2019_F</th>\n",
       "      <th>2020_F</th>\n",
       "      <th>2021_F</th>\n",
       "      <th>2022_F</th>\n",
       "      <th>AUTOGENERADO</th>\n",
       "      <th>DOC_PACIENTE</th>\n",
       "      <th>len</th>\n",
       "    </tr>\n",
       "  </thead>\n",
       "  <tbody>\n",
       "    <tr>\n",
       "      <th>22930</th>\n",
       "      <td>113</td>\n",
       "      <td>NaN</td>\n",
       "      <td>SOTO HUAYLLASI WILBERT</td>\n",
       "      <td>M</td>\n",
       "      <td>47</td>\n",
       "      <td>DM</td>\n",
       "      <td>NaN</td>\n",
       "      <td>NaT</td>\n",
       "      <td>NaT</td>\n",
       "      <td>2021-08-26</td>\n",
       "      <td>NaT</td>\n",
       "      <td>7402211SOHYW006</td>\n",
       "      <td>10002610</td>\n",
       "      <td>22</td>\n",
       "    </tr>\n",
       "    <tr>\n",
       "      <th>32788</th>\n",
       "      <td>123</td>\n",
       "      <td>NaN</td>\n",
       "      <td>ROMERO VALER PERCY</td>\n",
       "      <td>M</td>\n",
       "      <td>75</td>\n",
       "      <td>NaN</td>\n",
       "      <td>HTA</td>\n",
       "      <td>NaT</td>\n",
       "      <td>NaT</td>\n",
       "      <td>2021-06-22</td>\n",
       "      <td>NaT</td>\n",
       "      <td>4510261REVEP000</td>\n",
       "      <td>10019463</td>\n",
       "      <td>18</td>\n",
       "    </tr>\n",
       "    <tr>\n",
       "      <th>17549</th>\n",
       "      <td>111</td>\n",
       "      <td>NaN</td>\n",
       "      <td>ZANABRIA TRUJILLO ELIZABET</td>\n",
       "      <td>F</td>\n",
       "      <td>45</td>\n",
       "      <td>DM</td>\n",
       "      <td>NaN</td>\n",
       "      <td>2019-04-05</td>\n",
       "      <td>NaT</td>\n",
       "      <td>NaT</td>\n",
       "      <td>NaT</td>\n",
       "      <td>7404020ZATJE004</td>\n",
       "      <td>10019621</td>\n",
       "      <td>26</td>\n",
       "    </tr>\n",
       "  </tbody>\n",
       "</table>\n",
       "</div>"
      ],
      "text/plain": [
       "       CENTRO  ADSCRITO                    PACIENTE SEXO  EDAD MORB_1 MORB_2  \\\n",
       "22930     113       NaN      SOTO HUAYLLASI WILBERT    M    47     DM    NaN   \n",
       "32788     123       NaN          ROMERO VALER PERCY    M    75    NaN    HTA   \n",
       "17549     111       NaN  ZANABRIA TRUJILLO ELIZABET    F    45     DM    NaN   \n",
       "\n",
       "          2019_F 2020_F     2021_F 2022_F     AUTOGENERADO DOC_PACIENTE  len  \n",
       "22930        NaT    NaT 2021-08-26    NaT  7402211SOHYW006     10002610   22  \n",
       "32788        NaT    NaT 2021-06-22    NaT  4510261REVEP000     10019463   18  \n",
       "17549 2019-04-05    NaT        NaT    NaT  7404020ZATJE004     10019621   26  "
      ]
     },
     "execution_count": 62,
     "metadata": {},
     "output_type": "execute_result"
    }
   ],
   "source": [
    "table.head(3)"
   ]
  },
  {
   "cell_type": "code",
   "execution_count": 63,
   "id": "8cf7cc51",
   "metadata": {},
   "outputs": [],
   "source": [
    "nuevo_nombre = table.groupby('DOC_PACIENTE',as_index=False).PACIENTE.first()"
   ]
  },
  {
   "cell_type": "code",
   "execution_count": 64,
   "id": "5d3b0ef4",
   "metadata": {},
   "outputs": [],
   "source": [
    "table = table.merge(nuevo_nombre, on='DOC_PACIENTE', how='left')"
   ]
  },
  {
   "cell_type": "code",
   "execution_count": 65,
   "id": "66d97fdd",
   "metadata": {},
   "outputs": [],
   "source": [
    "table.drop(columns=['PACIENTE_x'], inplace=True)"
   ]
  },
  {
   "cell_type": "code",
   "execution_count": 66,
   "id": "796bb80a",
   "metadata": {},
   "outputs": [],
   "source": [
    "table.drop(columns=['len'], inplace=True)"
   ]
  },
  {
   "cell_type": "code",
   "execution_count": 67,
   "id": "3dc8ff43",
   "metadata": {},
   "outputs": [],
   "source": [
    "table.rename(columns={'PACIENTE_y':'PACIENTE'}, inplace=True)"
   ]
  },
  {
   "cell_type": "code",
   "execution_count": 68,
   "id": "07b9a7b2",
   "metadata": {},
   "outputs": [
    {
     "data": {
      "text/plain": [
       "DOC_PACIENTE    23261\n",
       "PACIENTE        23258\n",
       "AUTOGENERADO    23261\n",
       "dtype: int64"
      ]
     },
     "execution_count": 68,
     "metadata": {},
     "output_type": "execute_result"
    }
   ],
   "source": [
    "table[['DOC_PACIENTE','PACIENTE','AUTOGENERADO']].nunique()"
   ]
  },
  {
   "cell_type": "code",
   "execution_count": 69,
   "id": "73f608c7",
   "metadata": {},
   "outputs": [],
   "source": [
    "aa = table.groupby('PACIENTE',as_index=False).DOC_PACIENTE.nunique()"
   ]
  },
  {
   "cell_type": "code",
   "execution_count": 70,
   "id": "a6897c80",
   "metadata": {},
   "outputs": [],
   "source": [
    "mask_paciente = aa[aa.DOC_PACIENTE >= 2]['PACIENTE']"
   ]
  },
  {
   "cell_type": "code",
   "execution_count": 71,
   "id": "2e6c1d8b",
   "metadata": {},
   "outputs": [
    {
     "data": {
      "text/html": [
       "<div>\n",
       "<style scoped>\n",
       "    .dataframe tbody tr th:only-of-type {\n",
       "        vertical-align: middle;\n",
       "    }\n",
       "\n",
       "    .dataframe tbody tr th {\n",
       "        vertical-align: top;\n",
       "    }\n",
       "\n",
       "    .dataframe thead th {\n",
       "        text-align: right;\n",
       "    }\n",
       "</style>\n",
       "<table border=\"1\" class=\"dataframe\">\n",
       "  <thead>\n",
       "    <tr style=\"text-align: right;\">\n",
       "      <th></th>\n",
       "      <th>CENTRO</th>\n",
       "      <th>ADSCRITO</th>\n",
       "      <th>SEXO</th>\n",
       "      <th>EDAD</th>\n",
       "      <th>MORB_1</th>\n",
       "      <th>MORB_2</th>\n",
       "      <th>2019_F</th>\n",
       "      <th>2020_F</th>\n",
       "      <th>2021_F</th>\n",
       "      <th>2022_F</th>\n",
       "      <th>AUTOGENERADO</th>\n",
       "      <th>DOC_PACIENTE</th>\n",
       "      <th>PACIENTE</th>\n",
       "    </tr>\n",
       "  </thead>\n",
       "  <tbody>\n",
       "    <tr>\n",
       "      <th>4235</th>\n",
       "      <td>111</td>\n",
       "      <td>NaN</td>\n",
       "      <td>M</td>\n",
       "      <td>75</td>\n",
       "      <td>NaN</td>\n",
       "      <td>HTA</td>\n",
       "      <td>2019-05-29</td>\n",
       "      <td>NaT</td>\n",
       "      <td>NaT</td>\n",
       "      <td>NaT</td>\n",
       "      <td>4312021QSHMA002</td>\n",
       "      <td>23808770</td>\n",
       "      <td>QUISPE HUAMAN AURELIO</td>\n",
       "    </tr>\n",
       "    <tr>\n",
       "      <th>4236</th>\n",
       "      <td>111</td>\n",
       "      <td>NaN</td>\n",
       "      <td>M</td>\n",
       "      <td>77</td>\n",
       "      <td>NaN</td>\n",
       "      <td>HTA</td>\n",
       "      <td>NaT</td>\n",
       "      <td>2020-12-23</td>\n",
       "      <td>NaT</td>\n",
       "      <td>NaT</td>\n",
       "      <td>4312021QSHMA002</td>\n",
       "      <td>23808770</td>\n",
       "      <td>QUISPE HUAMAN AURELIO</td>\n",
       "    </tr>\n",
       "    <tr>\n",
       "      <th>4237</th>\n",
       "      <td>111</td>\n",
       "      <td>NaN</td>\n",
       "      <td>M</td>\n",
       "      <td>77</td>\n",
       "      <td>NaN</td>\n",
       "      <td>HTA</td>\n",
       "      <td>NaT</td>\n",
       "      <td>NaT</td>\n",
       "      <td>2021-01-15</td>\n",
       "      <td>NaT</td>\n",
       "      <td>4312021QSHMA002</td>\n",
       "      <td>23808770</td>\n",
       "      <td>QUISPE HUAMAN AURELIO</td>\n",
       "    </tr>\n",
       "  </tbody>\n",
       "</table>\n",
       "</div>"
      ],
      "text/plain": [
       "      CENTRO  ADSCRITO SEXO  EDAD MORB_1 MORB_2     2019_F     2020_F  \\\n",
       "4235     111       NaN    M    75    NaN    HTA 2019-05-29        NaT   \n",
       "4236     111       NaN    M    77    NaN    HTA        NaT 2020-12-23   \n",
       "4237     111       NaN    M    77    NaN    HTA        NaT        NaT   \n",
       "\n",
       "         2021_F 2022_F     AUTOGENERADO DOC_PACIENTE               PACIENTE  \n",
       "4235        NaT    NaT  4312021QSHMA002     23808770  QUISPE HUAMAN AURELIO  \n",
       "4236        NaT    NaT  4312021QSHMA002     23808770  QUISPE HUAMAN AURELIO  \n",
       "4237 2021-01-15    NaT  4312021QSHMA002     23808770  QUISPE HUAMAN AURELIO  "
      ]
     },
     "execution_count": 71,
     "metadata": {},
     "output_type": "execute_result"
    }
   ],
   "source": [
    "table[table.PACIENTE.isin(mask_paciente)].head(3)"
   ]
  },
  {
   "cell_type": "code",
   "execution_count": 72,
   "id": "33efdf64",
   "metadata": {},
   "outputs": [],
   "source": [
    "# se pudo comprobar que el desfase entre DNI y paciente de 3 es por que son tres pacientes con el mismo nombre (homonimos)"
   ]
  },
  {
   "cell_type": "code",
   "execution_count": null,
   "id": "eade7c1d",
   "metadata": {},
   "outputs": [],
   "source": []
  },
  {
   "cell_type": "code",
   "execution_count": 73,
   "id": "d80eaed6",
   "metadata": {},
   "outputs": [
    {
     "data": {
      "text/html": [
       "<div>\n",
       "<style scoped>\n",
       "    .dataframe tbody tr th:only-of-type {\n",
       "        vertical-align: middle;\n",
       "    }\n",
       "\n",
       "    .dataframe tbody tr th {\n",
       "        vertical-align: top;\n",
       "    }\n",
       "\n",
       "    .dataframe thead th {\n",
       "        text-align: right;\n",
       "    }\n",
       "</style>\n",
       "<table border=\"1\" class=\"dataframe\">\n",
       "  <thead>\n",
       "    <tr style=\"text-align: right;\">\n",
       "      <th></th>\n",
       "      <th>CENTRO</th>\n",
       "      <th>ADSCRITO</th>\n",
       "      <th>SEXO</th>\n",
       "      <th>EDAD</th>\n",
       "      <th>MORB_1</th>\n",
       "      <th>MORB_2</th>\n",
       "      <th>2019_F</th>\n",
       "      <th>2020_F</th>\n",
       "      <th>2021_F</th>\n",
       "      <th>2022_F</th>\n",
       "      <th>AUTOGENERADO</th>\n",
       "      <th>DOC_PACIENTE</th>\n",
       "      <th>PACIENTE</th>\n",
       "    </tr>\n",
       "  </thead>\n",
       "  <tbody>\n",
       "    <tr>\n",
       "      <th>0</th>\n",
       "      <td>113</td>\n",
       "      <td>NaN</td>\n",
       "      <td>M</td>\n",
       "      <td>47</td>\n",
       "      <td>DM</td>\n",
       "      <td>NaN</td>\n",
       "      <td>NaT</td>\n",
       "      <td>NaT</td>\n",
       "      <td>2021-08-26</td>\n",
       "      <td>NaT</td>\n",
       "      <td>7402211SOHYW006</td>\n",
       "      <td>10002610</td>\n",
       "      <td>SOTO HUAYLLASI WILBERT</td>\n",
       "    </tr>\n",
       "    <tr>\n",
       "      <th>1</th>\n",
       "      <td>123</td>\n",
       "      <td>NaN</td>\n",
       "      <td>M</td>\n",
       "      <td>75</td>\n",
       "      <td>NaN</td>\n",
       "      <td>HTA</td>\n",
       "      <td>NaT</td>\n",
       "      <td>NaT</td>\n",
       "      <td>2021-06-22</td>\n",
       "      <td>NaT</td>\n",
       "      <td>4510261REVEP000</td>\n",
       "      <td>10019463</td>\n",
       "      <td>ROMERO VALER PERCY</td>\n",
       "    </tr>\n",
       "    <tr>\n",
       "      <th>2</th>\n",
       "      <td>111</td>\n",
       "      <td>NaN</td>\n",
       "      <td>F</td>\n",
       "      <td>45</td>\n",
       "      <td>DM</td>\n",
       "      <td>NaN</td>\n",
       "      <td>2019-04-05</td>\n",
       "      <td>NaT</td>\n",
       "      <td>NaT</td>\n",
       "      <td>NaT</td>\n",
       "      <td>7404020ZATJE004</td>\n",
       "      <td>10019621</td>\n",
       "      <td>ZANABRIA TRUJILLO ELIZABET</td>\n",
       "    </tr>\n",
       "    <tr>\n",
       "      <th>3</th>\n",
       "      <td>111</td>\n",
       "      <td>NaN</td>\n",
       "      <td>F</td>\n",
       "      <td>47</td>\n",
       "      <td>DM</td>\n",
       "      <td>NaN</td>\n",
       "      <td>NaT</td>\n",
       "      <td>NaT</td>\n",
       "      <td>2021-04-19</td>\n",
       "      <td>NaT</td>\n",
       "      <td>7404020ZATJE004</td>\n",
       "      <td>10019621</td>\n",
       "      <td>ZANABRIA TRUJILLO ELIZABET</td>\n",
       "    </tr>\n",
       "    <tr>\n",
       "      <th>4</th>\n",
       "      <td>418</td>\n",
       "      <td>NaN</td>\n",
       "      <td>F</td>\n",
       "      <td>46</td>\n",
       "      <td>DM</td>\n",
       "      <td>NaN</td>\n",
       "      <td>NaT</td>\n",
       "      <td>NaT</td>\n",
       "      <td>2021-02-01</td>\n",
       "      <td>NaT</td>\n",
       "      <td>7404020ZATJE004</td>\n",
       "      <td>10019621</td>\n",
       "      <td>ZANABRIA TRUJILLO ELIZABET</td>\n",
       "    </tr>\n",
       "  </tbody>\n",
       "</table>\n",
       "</div>"
      ],
      "text/plain": [
       "   CENTRO  ADSCRITO SEXO  EDAD MORB_1 MORB_2     2019_F 2020_F     2021_F  \\\n",
       "0     113       NaN    M    47     DM    NaN        NaT    NaT 2021-08-26   \n",
       "1     123       NaN    M    75    NaN    HTA        NaT    NaT 2021-06-22   \n",
       "2     111       NaN    F    45     DM    NaN 2019-04-05    NaT        NaT   \n",
       "3     111       NaN    F    47     DM    NaN        NaT    NaT 2021-04-19   \n",
       "4     418       NaN    F    46     DM    NaN        NaT    NaT 2021-02-01   \n",
       "\n",
       "  2022_F     AUTOGENERADO DOC_PACIENTE                    PACIENTE  \n",
       "0    NaT  7402211SOHYW006     10002610      SOTO HUAYLLASI WILBERT  \n",
       "1    NaT  4510261REVEP000     10019463          ROMERO VALER PERCY  \n",
       "2    NaT  7404020ZATJE004     10019621  ZANABRIA TRUJILLO ELIZABET  \n",
       "3    NaT  7404020ZATJE004     10019621  ZANABRIA TRUJILLO ELIZABET  \n",
       "4    NaT  7404020ZATJE004     10019621  ZANABRIA TRUJILLO ELIZABET  "
      ]
     },
     "execution_count": 73,
     "metadata": {},
     "output_type": "execute_result"
    }
   ],
   "source": [
    "table.head()"
   ]
  },
  {
   "cell_type": "code",
   "execution_count": 74,
   "id": "cf13c3fb",
   "metadata": {},
   "outputs": [],
   "source": [
    "table = table.loc[:,['CENTRO','ADSCRITO','DOC_PACIENTE','PACIENTE','AUTOGENERADO','SEXO','EDAD','MORB_1','MORB_2','2019_F','2020_F','2021_F','2022_F']]"
   ]
  },
  {
   "cell_type": "code",
   "execution_count": 75,
   "id": "87a597af",
   "metadata": {},
   "outputs": [],
   "source": [
    "table.sort_values('DOC_PACIENTE', inplace=True)"
   ]
  },
  {
   "cell_type": "code",
   "execution_count": null,
   "id": "2512db8d",
   "metadata": {},
   "outputs": [],
   "source": []
  },
  {
   "cell_type": "code",
   "execution_count": 76,
   "id": "0701fa1f",
   "metadata": {},
   "outputs": [
    {
     "data": {
      "text/html": [
       "<div>\n",
       "<style scoped>\n",
       "    .dataframe tbody tr th:only-of-type {\n",
       "        vertical-align: middle;\n",
       "    }\n",
       "\n",
       "    .dataframe tbody tr th {\n",
       "        vertical-align: top;\n",
       "    }\n",
       "\n",
       "    .dataframe thead th {\n",
       "        text-align: right;\n",
       "    }\n",
       "</style>\n",
       "<table border=\"1\" class=\"dataframe\">\n",
       "  <thead>\n",
       "    <tr style=\"text-align: right;\">\n",
       "      <th></th>\n",
       "      <th>CENTRO</th>\n",
       "      <th>ADSCRITO</th>\n",
       "      <th>DOC_PACIENTE</th>\n",
       "      <th>PACIENTE</th>\n",
       "      <th>AUTOGENERADO</th>\n",
       "      <th>SEXO</th>\n",
       "      <th>EDAD</th>\n",
       "      <th>MORB_1</th>\n",
       "      <th>MORB_2</th>\n",
       "      <th>2019_F</th>\n",
       "      <th>2020_F</th>\n",
       "      <th>2021_F</th>\n",
       "      <th>2022_F</th>\n",
       "    </tr>\n",
       "  </thead>\n",
       "  <tbody>\n",
       "    <tr>\n",
       "      <th>0</th>\n",
       "      <td>113</td>\n",
       "      <td>NaN</td>\n",
       "      <td>10002610</td>\n",
       "      <td>SOTO HUAYLLASI WILBERT</td>\n",
       "      <td>7402211SOHYW006</td>\n",
       "      <td>M</td>\n",
       "      <td>47</td>\n",
       "      <td>DM</td>\n",
       "      <td>NaN</td>\n",
       "      <td>NaT</td>\n",
       "      <td>NaT</td>\n",
       "      <td>2021-08-26</td>\n",
       "      <td>NaT</td>\n",
       "    </tr>\n",
       "    <tr>\n",
       "      <th>1</th>\n",
       "      <td>123</td>\n",
       "      <td>NaN</td>\n",
       "      <td>10019463</td>\n",
       "      <td>ROMERO VALER PERCY</td>\n",
       "      <td>4510261REVEP000</td>\n",
       "      <td>M</td>\n",
       "      <td>75</td>\n",
       "      <td>NaN</td>\n",
       "      <td>HTA</td>\n",
       "      <td>NaT</td>\n",
       "      <td>NaT</td>\n",
       "      <td>2021-06-22</td>\n",
       "      <td>NaT</td>\n",
       "    </tr>\n",
       "    <tr>\n",
       "      <th>2</th>\n",
       "      <td>111</td>\n",
       "      <td>NaN</td>\n",
       "      <td>10019621</td>\n",
       "      <td>ZANABRIA TRUJILLO ELIZABET</td>\n",
       "      <td>7404020ZATJE004</td>\n",
       "      <td>F</td>\n",
       "      <td>45</td>\n",
       "      <td>DM</td>\n",
       "      <td>NaN</td>\n",
       "      <td>2019-04-05</td>\n",
       "      <td>NaT</td>\n",
       "      <td>NaT</td>\n",
       "      <td>NaT</td>\n",
       "    </tr>\n",
       "  </tbody>\n",
       "</table>\n",
       "</div>"
      ],
      "text/plain": [
       "   CENTRO  ADSCRITO DOC_PACIENTE                    PACIENTE     AUTOGENERADO  \\\n",
       "0     113       NaN     10002610      SOTO HUAYLLASI WILBERT  7402211SOHYW006   \n",
       "1     123       NaN     10019463          ROMERO VALER PERCY  4510261REVEP000   \n",
       "2     111       NaN     10019621  ZANABRIA TRUJILLO ELIZABET  7404020ZATJE004   \n",
       "\n",
       "  SEXO  EDAD MORB_1 MORB_2     2019_F 2020_F     2021_F 2022_F  \n",
       "0    M    47     DM    NaN        NaT    NaT 2021-08-26    NaT  \n",
       "1    M    75    NaN    HTA        NaT    NaT 2021-06-22    NaT  \n",
       "2    F    45     DM    NaN 2019-04-05    NaT        NaT    NaT  "
      ]
     },
     "execution_count": 76,
     "metadata": {},
     "output_type": "execute_result"
    }
   ],
   "source": [
    "table.head(3)"
   ]
  },
  {
   "cell_type": "code",
   "execution_count": null,
   "id": "90f4c831",
   "metadata": {},
   "outputs": [],
   "source": []
  },
  {
   "cell_type": "markdown",
   "id": "a67973b7",
   "metadata": {},
   "source": [
    "## Una sola columna de fecha"
   ]
  },
  {
   "cell_type": "code",
   "execution_count": 77,
   "id": "0aa451ac",
   "metadata": {},
   "outputs": [],
   "source": [
    "# Comprobando que cada entrada solo tenga una fecha"
   ]
  },
  {
   "cell_type": "code",
   "execution_count": 78,
   "id": "3a63ae0b",
   "metadata": {},
   "outputs": [],
   "source": [
    "dates = table.iloc[:,9:]"
   ]
  },
  {
   "cell_type": "code",
   "execution_count": 79,
   "id": "ef8fba13",
   "metadata": {},
   "outputs": [],
   "source": [
    "dates['cnt_fechas'] = dates.notnull().sum(axis=1)"
   ]
  },
  {
   "cell_type": "code",
   "execution_count": 80,
   "id": "c241ab97",
   "metadata": {},
   "outputs": [
    {
     "data": {
      "text/plain": [
       "cnt_fechas\n",
       "1    74383\n",
       "Name: count, dtype: int64"
      ]
     },
     "execution_count": 80,
     "metadata": {},
     "output_type": "execute_result"
    }
   ],
   "source": [
    "dates.cnt_fechas.value_counts()"
   ]
  },
  {
   "cell_type": "code",
   "execution_count": 81,
   "id": "86daa7f9",
   "metadata": {},
   "outputs": [],
   "source": [
    "# Se observa que en todas las entradas solo hay una fecha"
   ]
  },
  {
   "cell_type": "code",
   "execution_count": 82,
   "id": "7ff80668",
   "metadata": {},
   "outputs": [
    {
     "data": {
      "text/html": [
       "<div>\n",
       "<style scoped>\n",
       "    .dataframe tbody tr th:only-of-type {\n",
       "        vertical-align: middle;\n",
       "    }\n",
       "\n",
       "    .dataframe tbody tr th {\n",
       "        vertical-align: top;\n",
       "    }\n",
       "\n",
       "    .dataframe thead th {\n",
       "        text-align: right;\n",
       "    }\n",
       "</style>\n",
       "<table border=\"1\" class=\"dataframe\">\n",
       "  <thead>\n",
       "    <tr style=\"text-align: right;\">\n",
       "      <th></th>\n",
       "      <th>CENTRO</th>\n",
       "      <th>ADSCRITO</th>\n",
       "      <th>DOC_PACIENTE</th>\n",
       "      <th>PACIENTE</th>\n",
       "      <th>AUTOGENERADO</th>\n",
       "      <th>SEXO</th>\n",
       "      <th>EDAD</th>\n",
       "      <th>MORB_1</th>\n",
       "      <th>MORB_2</th>\n",
       "      <th>2019_F</th>\n",
       "      <th>2020_F</th>\n",
       "      <th>2021_F</th>\n",
       "      <th>2022_F</th>\n",
       "    </tr>\n",
       "  </thead>\n",
       "  <tbody>\n",
       "    <tr>\n",
       "      <th>0</th>\n",
       "      <td>113</td>\n",
       "      <td>NaN</td>\n",
       "      <td>10002610</td>\n",
       "      <td>SOTO HUAYLLASI WILBERT</td>\n",
       "      <td>7402211SOHYW006</td>\n",
       "      <td>M</td>\n",
       "      <td>47</td>\n",
       "      <td>DM</td>\n",
       "      <td>NaN</td>\n",
       "      <td>NaT</td>\n",
       "      <td>NaT</td>\n",
       "      <td>2021-08-26</td>\n",
       "      <td>NaT</td>\n",
       "    </tr>\n",
       "    <tr>\n",
       "      <th>1</th>\n",
       "      <td>123</td>\n",
       "      <td>NaN</td>\n",
       "      <td>10019463</td>\n",
       "      <td>ROMERO VALER PERCY</td>\n",
       "      <td>4510261REVEP000</td>\n",
       "      <td>M</td>\n",
       "      <td>75</td>\n",
       "      <td>NaN</td>\n",
       "      <td>HTA</td>\n",
       "      <td>NaT</td>\n",
       "      <td>NaT</td>\n",
       "      <td>2021-06-22</td>\n",
       "      <td>NaT</td>\n",
       "    </tr>\n",
       "  </tbody>\n",
       "</table>\n",
       "</div>"
      ],
      "text/plain": [
       "   CENTRO  ADSCRITO DOC_PACIENTE                PACIENTE     AUTOGENERADO  \\\n",
       "0     113       NaN     10002610  SOTO HUAYLLASI WILBERT  7402211SOHYW006   \n",
       "1     123       NaN     10019463      ROMERO VALER PERCY  4510261REVEP000   \n",
       "\n",
       "  SEXO  EDAD MORB_1 MORB_2 2019_F 2020_F     2021_F 2022_F  \n",
       "0    M    47     DM    NaN    NaT    NaT 2021-08-26    NaT  \n",
       "1    M    75    NaN    HTA    NaT    NaT 2021-06-22    NaT  "
      ]
     },
     "execution_count": 82,
     "metadata": {},
     "output_type": "execute_result"
    }
   ],
   "source": [
    "table.head(2)"
   ]
  },
  {
   "cell_type": "code",
   "execution_count": 83,
   "id": "dfbb7f8f",
   "metadata": {},
   "outputs": [],
   "source": [
    "table['fecha']=table.iloc[:,9:].apply(lambda row: row[row.first_valid_index()], axis=1)"
   ]
  },
  {
   "cell_type": "code",
   "execution_count": 84,
   "id": "1a6bdd43",
   "metadata": {},
   "outputs": [
    {
     "data": {
      "text/html": [
       "<div>\n",
       "<style scoped>\n",
       "    .dataframe tbody tr th:only-of-type {\n",
       "        vertical-align: middle;\n",
       "    }\n",
       "\n",
       "    .dataframe tbody tr th {\n",
       "        vertical-align: top;\n",
       "    }\n",
       "\n",
       "    .dataframe thead th {\n",
       "        text-align: right;\n",
       "    }\n",
       "</style>\n",
       "<table border=\"1\" class=\"dataframe\">\n",
       "  <thead>\n",
       "    <tr style=\"text-align: right;\">\n",
       "      <th></th>\n",
       "      <th>CENTRO</th>\n",
       "      <th>ADSCRITO</th>\n",
       "      <th>DOC_PACIENTE</th>\n",
       "      <th>PACIENTE</th>\n",
       "      <th>AUTOGENERADO</th>\n",
       "      <th>SEXO</th>\n",
       "      <th>EDAD</th>\n",
       "      <th>MORB_1</th>\n",
       "      <th>MORB_2</th>\n",
       "      <th>2019_F</th>\n",
       "      <th>2020_F</th>\n",
       "      <th>2021_F</th>\n",
       "      <th>2022_F</th>\n",
       "      <th>fecha</th>\n",
       "    </tr>\n",
       "  </thead>\n",
       "  <tbody>\n",
       "    <tr>\n",
       "      <th>0</th>\n",
       "      <td>113</td>\n",
       "      <td>NaN</td>\n",
       "      <td>10002610</td>\n",
       "      <td>SOTO HUAYLLASI WILBERT</td>\n",
       "      <td>7402211SOHYW006</td>\n",
       "      <td>M</td>\n",
       "      <td>47</td>\n",
       "      <td>DM</td>\n",
       "      <td>NaN</td>\n",
       "      <td>NaT</td>\n",
       "      <td>NaT</td>\n",
       "      <td>2021-08-26</td>\n",
       "      <td>NaT</td>\n",
       "      <td>2021-08-26</td>\n",
       "    </tr>\n",
       "    <tr>\n",
       "      <th>1</th>\n",
       "      <td>123</td>\n",
       "      <td>NaN</td>\n",
       "      <td>10019463</td>\n",
       "      <td>ROMERO VALER PERCY</td>\n",
       "      <td>4510261REVEP000</td>\n",
       "      <td>M</td>\n",
       "      <td>75</td>\n",
       "      <td>NaN</td>\n",
       "      <td>HTA</td>\n",
       "      <td>NaT</td>\n",
       "      <td>NaT</td>\n",
       "      <td>2021-06-22</td>\n",
       "      <td>NaT</td>\n",
       "      <td>2021-06-22</td>\n",
       "    </tr>\n",
       "    <tr>\n",
       "      <th>2</th>\n",
       "      <td>111</td>\n",
       "      <td>NaN</td>\n",
       "      <td>10019621</td>\n",
       "      <td>ZANABRIA TRUJILLO ELIZABET</td>\n",
       "      <td>7404020ZATJE004</td>\n",
       "      <td>F</td>\n",
       "      <td>45</td>\n",
       "      <td>DM</td>\n",
       "      <td>NaN</td>\n",
       "      <td>2019-04-05</td>\n",
       "      <td>NaT</td>\n",
       "      <td>NaT</td>\n",
       "      <td>NaT</td>\n",
       "      <td>2019-04-05</td>\n",
       "    </tr>\n",
       "    <tr>\n",
       "      <th>3</th>\n",
       "      <td>111</td>\n",
       "      <td>NaN</td>\n",
       "      <td>10019621</td>\n",
       "      <td>ZANABRIA TRUJILLO ELIZABET</td>\n",
       "      <td>7404020ZATJE004</td>\n",
       "      <td>F</td>\n",
       "      <td>47</td>\n",
       "      <td>DM</td>\n",
       "      <td>NaN</td>\n",
       "      <td>NaT</td>\n",
       "      <td>NaT</td>\n",
       "      <td>2021-04-19</td>\n",
       "      <td>NaT</td>\n",
       "      <td>2021-04-19</td>\n",
       "    </tr>\n",
       "    <tr>\n",
       "      <th>4</th>\n",
       "      <td>418</td>\n",
       "      <td>NaN</td>\n",
       "      <td>10019621</td>\n",
       "      <td>ZANABRIA TRUJILLO ELIZABET</td>\n",
       "      <td>7404020ZATJE004</td>\n",
       "      <td>F</td>\n",
       "      <td>46</td>\n",
       "      <td>DM</td>\n",
       "      <td>NaN</td>\n",
       "      <td>NaT</td>\n",
       "      <td>NaT</td>\n",
       "      <td>2021-02-01</td>\n",
       "      <td>NaT</td>\n",
       "      <td>2021-02-01</td>\n",
       "    </tr>\n",
       "  </tbody>\n",
       "</table>\n",
       "</div>"
      ],
      "text/plain": [
       "   CENTRO  ADSCRITO DOC_PACIENTE                    PACIENTE     AUTOGENERADO  \\\n",
       "0     113       NaN     10002610      SOTO HUAYLLASI WILBERT  7402211SOHYW006   \n",
       "1     123       NaN     10019463          ROMERO VALER PERCY  4510261REVEP000   \n",
       "2     111       NaN     10019621  ZANABRIA TRUJILLO ELIZABET  7404020ZATJE004   \n",
       "3     111       NaN     10019621  ZANABRIA TRUJILLO ELIZABET  7404020ZATJE004   \n",
       "4     418       NaN     10019621  ZANABRIA TRUJILLO ELIZABET  7404020ZATJE004   \n",
       "\n",
       "  SEXO  EDAD MORB_1 MORB_2     2019_F 2020_F     2021_F 2022_F      fecha  \n",
       "0    M    47     DM    NaN        NaT    NaT 2021-08-26    NaT 2021-08-26  \n",
       "1    M    75    NaN    HTA        NaT    NaT 2021-06-22    NaT 2021-06-22  \n",
       "2    F    45     DM    NaN 2019-04-05    NaT        NaT    NaT 2019-04-05  \n",
       "3    F    47     DM    NaN        NaT    NaT 2021-04-19    NaT 2021-04-19  \n",
       "4    F    46     DM    NaN        NaT    NaT 2021-02-01    NaT 2021-02-01  "
      ]
     },
     "execution_count": 84,
     "metadata": {},
     "output_type": "execute_result"
    }
   ],
   "source": [
    "table.head(5)"
   ]
  },
  {
   "cell_type": "code",
   "execution_count": 85,
   "id": "b65ddaf5",
   "metadata": {},
   "outputs": [],
   "source": [
    "table.drop(columns=['2019_F','2020_F','2021_F','2022_F'], inplace=True)"
   ]
  },
  {
   "cell_type": "code",
   "execution_count": 86,
   "id": "e33e56e5",
   "metadata": {},
   "outputs": [
    {
     "data": {
      "text/html": [
       "<div>\n",
       "<style scoped>\n",
       "    .dataframe tbody tr th:only-of-type {\n",
       "        vertical-align: middle;\n",
       "    }\n",
       "\n",
       "    .dataframe tbody tr th {\n",
       "        vertical-align: top;\n",
       "    }\n",
       "\n",
       "    .dataframe thead th {\n",
       "        text-align: right;\n",
       "    }\n",
       "</style>\n",
       "<table border=\"1\" class=\"dataframe\">\n",
       "  <thead>\n",
       "    <tr style=\"text-align: right;\">\n",
       "      <th></th>\n",
       "      <th>CENTRO</th>\n",
       "      <th>ADSCRITO</th>\n",
       "      <th>DOC_PACIENTE</th>\n",
       "      <th>PACIENTE</th>\n",
       "      <th>AUTOGENERADO</th>\n",
       "      <th>SEXO</th>\n",
       "      <th>EDAD</th>\n",
       "      <th>MORB_1</th>\n",
       "      <th>MORB_2</th>\n",
       "      <th>fecha</th>\n",
       "    </tr>\n",
       "  </thead>\n",
       "  <tbody>\n",
       "    <tr>\n",
       "      <th>0</th>\n",
       "      <td>113</td>\n",
       "      <td>NaN</td>\n",
       "      <td>10002610</td>\n",
       "      <td>SOTO HUAYLLASI WILBERT</td>\n",
       "      <td>7402211SOHYW006</td>\n",
       "      <td>M</td>\n",
       "      <td>47</td>\n",
       "      <td>DM</td>\n",
       "      <td>NaN</td>\n",
       "      <td>2021-08-26</td>\n",
       "    </tr>\n",
       "    <tr>\n",
       "      <th>1</th>\n",
       "      <td>123</td>\n",
       "      <td>NaN</td>\n",
       "      <td>10019463</td>\n",
       "      <td>ROMERO VALER PERCY</td>\n",
       "      <td>4510261REVEP000</td>\n",
       "      <td>M</td>\n",
       "      <td>75</td>\n",
       "      <td>NaN</td>\n",
       "      <td>HTA</td>\n",
       "      <td>2021-06-22</td>\n",
       "    </tr>\n",
       "    <tr>\n",
       "      <th>2</th>\n",
       "      <td>111</td>\n",
       "      <td>NaN</td>\n",
       "      <td>10019621</td>\n",
       "      <td>ZANABRIA TRUJILLO ELIZABET</td>\n",
       "      <td>7404020ZATJE004</td>\n",
       "      <td>F</td>\n",
       "      <td>45</td>\n",
       "      <td>DM</td>\n",
       "      <td>NaN</td>\n",
       "      <td>2019-04-05</td>\n",
       "    </tr>\n",
       "    <tr>\n",
       "      <th>3</th>\n",
       "      <td>111</td>\n",
       "      <td>NaN</td>\n",
       "      <td>10019621</td>\n",
       "      <td>ZANABRIA TRUJILLO ELIZABET</td>\n",
       "      <td>7404020ZATJE004</td>\n",
       "      <td>F</td>\n",
       "      <td>47</td>\n",
       "      <td>DM</td>\n",
       "      <td>NaN</td>\n",
       "      <td>2021-04-19</td>\n",
       "    </tr>\n",
       "  </tbody>\n",
       "</table>\n",
       "</div>"
      ],
      "text/plain": [
       "   CENTRO  ADSCRITO DOC_PACIENTE                    PACIENTE     AUTOGENERADO  \\\n",
       "0     113       NaN     10002610      SOTO HUAYLLASI WILBERT  7402211SOHYW006   \n",
       "1     123       NaN     10019463          ROMERO VALER PERCY  4510261REVEP000   \n",
       "2     111       NaN     10019621  ZANABRIA TRUJILLO ELIZABET  7404020ZATJE004   \n",
       "3     111       NaN     10019621  ZANABRIA TRUJILLO ELIZABET  7404020ZATJE004   \n",
       "\n",
       "  SEXO  EDAD MORB_1 MORB_2      fecha  \n",
       "0    M    47     DM    NaN 2021-08-26  \n",
       "1    M    75    NaN    HTA 2021-06-22  \n",
       "2    F    45     DM    NaN 2019-04-05  \n",
       "3    F    47     DM    NaN 2021-04-19  "
      ]
     },
     "execution_count": 86,
     "metadata": {},
     "output_type": "execute_result"
    }
   ],
   "source": [
    "table.head(4)"
   ]
  },
  {
   "cell_type": "code",
   "execution_count": null,
   "id": "3f480024",
   "metadata": {},
   "outputs": [],
   "source": []
  },
  {
   "cell_type": "markdown",
   "id": "70d8fa47",
   "metadata": {},
   "source": [
    "##  Todas las atenciones de cada paciente, se consideraran en el centro en el que estan adscritos\n",
    "    Para pacientes sin centro adscrito, se considerará su adscripcion al primer centro al que fueron "
   ]
  },
  {
   "cell_type": "code",
   "execution_count": 87,
   "id": "fed691b7",
   "metadata": {},
   "outputs": [],
   "source": [
    "pacientes_con_sin_adscripcion = table.groupby('DOC_PACIENTE',as_index=False).ADSCRITO.nunique()"
   ]
  },
  {
   "cell_type": "code",
   "execution_count": 88,
   "id": "ccdb19d6",
   "metadata": {},
   "outputs": [
    {
     "data": {
      "text/plain": [
       "ADSCRITO\n",
       "0    20188\n",
       "1     3073\n",
       "Name: count, dtype: int64"
      ]
     },
     "execution_count": 88,
     "metadata": {},
     "output_type": "execute_result"
    }
   ],
   "source": [
    "pacientes_con_sin_adscripcion.ADSCRITO.value_counts()"
   ]
  },
  {
   "cell_type": "code",
   "execution_count": 89,
   "id": "391f782b",
   "metadata": {},
   "outputs": [],
   "source": [
    "# Se observa 20,188 pacientes que no tienen adscripcion."
   ]
  },
  {
   "cell_type": "code",
   "execution_count": 90,
   "id": "164dbfa5",
   "metadata": {},
   "outputs": [],
   "source": [
    "table.sort_values(['DOC_PACIENTE','fecha'],inplace=True)"
   ]
  },
  {
   "cell_type": "code",
   "execution_count": 91,
   "id": "8436fdbe",
   "metadata": {},
   "outputs": [
    {
     "data": {
      "text/html": [
       "<div>\n",
       "<style scoped>\n",
       "    .dataframe tbody tr th:only-of-type {\n",
       "        vertical-align: middle;\n",
       "    }\n",
       "\n",
       "    .dataframe tbody tr th {\n",
       "        vertical-align: top;\n",
       "    }\n",
       "\n",
       "    .dataframe thead th {\n",
       "        text-align: right;\n",
       "    }\n",
       "</style>\n",
       "<table border=\"1\" class=\"dataframe\">\n",
       "  <thead>\n",
       "    <tr style=\"text-align: right;\">\n",
       "      <th></th>\n",
       "      <th>CENTRO</th>\n",
       "      <th>ADSCRITO</th>\n",
       "      <th>DOC_PACIENTE</th>\n",
       "      <th>PACIENTE</th>\n",
       "      <th>AUTOGENERADO</th>\n",
       "      <th>SEXO</th>\n",
       "      <th>EDAD</th>\n",
       "      <th>MORB_1</th>\n",
       "      <th>MORB_2</th>\n",
       "      <th>fecha</th>\n",
       "    </tr>\n",
       "  </thead>\n",
       "  <tbody>\n",
       "    <tr>\n",
       "      <th>0</th>\n",
       "      <td>113</td>\n",
       "      <td>NaN</td>\n",
       "      <td>10002610</td>\n",
       "      <td>SOTO HUAYLLASI WILBERT</td>\n",
       "      <td>7402211SOHYW006</td>\n",
       "      <td>M</td>\n",
       "      <td>47</td>\n",
       "      <td>DM</td>\n",
       "      <td>NaN</td>\n",
       "      <td>2021-08-26</td>\n",
       "    </tr>\n",
       "    <tr>\n",
       "      <th>1</th>\n",
       "      <td>123</td>\n",
       "      <td>NaN</td>\n",
       "      <td>10019463</td>\n",
       "      <td>ROMERO VALER PERCY</td>\n",
       "      <td>4510261REVEP000</td>\n",
       "      <td>M</td>\n",
       "      <td>75</td>\n",
       "      <td>NaN</td>\n",
       "      <td>HTA</td>\n",
       "      <td>2021-06-22</td>\n",
       "    </tr>\n",
       "    <tr>\n",
       "      <th>2</th>\n",
       "      <td>111</td>\n",
       "      <td>NaN</td>\n",
       "      <td>10019621</td>\n",
       "      <td>ZANABRIA TRUJILLO ELIZABET</td>\n",
       "      <td>7404020ZATJE004</td>\n",
       "      <td>F</td>\n",
       "      <td>45</td>\n",
       "      <td>DM</td>\n",
       "      <td>NaN</td>\n",
       "      <td>2019-04-05</td>\n",
       "    </tr>\n",
       "    <tr>\n",
       "      <th>4</th>\n",
       "      <td>418</td>\n",
       "      <td>NaN</td>\n",
       "      <td>10019621</td>\n",
       "      <td>ZANABRIA TRUJILLO ELIZABET</td>\n",
       "      <td>7404020ZATJE004</td>\n",
       "      <td>F</td>\n",
       "      <td>46</td>\n",
       "      <td>DM</td>\n",
       "      <td>NaN</td>\n",
       "      <td>2021-02-01</td>\n",
       "    </tr>\n",
       "  </tbody>\n",
       "</table>\n",
       "</div>"
      ],
      "text/plain": [
       "   CENTRO  ADSCRITO DOC_PACIENTE                    PACIENTE     AUTOGENERADO  \\\n",
       "0     113       NaN     10002610      SOTO HUAYLLASI WILBERT  7402211SOHYW006   \n",
       "1     123       NaN     10019463          ROMERO VALER PERCY  4510261REVEP000   \n",
       "2     111       NaN     10019621  ZANABRIA TRUJILLO ELIZABET  7404020ZATJE004   \n",
       "4     418       NaN     10019621  ZANABRIA TRUJILLO ELIZABET  7404020ZATJE004   \n",
       "\n",
       "  SEXO  EDAD MORB_1 MORB_2      fecha  \n",
       "0    M    47     DM    NaN 2021-08-26  \n",
       "1    M    75    NaN    HTA 2021-06-22  \n",
       "2    F    45     DM    NaN 2019-04-05  \n",
       "4    F    46     DM    NaN 2021-02-01  "
      ]
     },
     "execution_count": 91,
     "metadata": {},
     "output_type": "execute_result"
    }
   ],
   "source": [
    "table.head(4)"
   ]
  },
  {
   "cell_type": "code",
   "execution_count": 92,
   "id": "4e2d3d60",
   "metadata": {},
   "outputs": [
    {
     "data": {
      "text/html": [
       "<div>\n",
       "<style scoped>\n",
       "    .dataframe tbody tr th:only-of-type {\n",
       "        vertical-align: middle;\n",
       "    }\n",
       "\n",
       "    .dataframe tbody tr th {\n",
       "        vertical-align: top;\n",
       "    }\n",
       "\n",
       "    .dataframe thead th {\n",
       "        text-align: right;\n",
       "    }\n",
       "</style>\n",
       "<table border=\"1\" class=\"dataframe\">\n",
       "  <thead>\n",
       "    <tr style=\"text-align: right;\">\n",
       "      <th></th>\n",
       "      <th>DOC_PACIENTE</th>\n",
       "      <th>ADSCRITO</th>\n",
       "    </tr>\n",
       "  </thead>\n",
       "  <tbody>\n",
       "    <tr>\n",
       "      <th>0</th>\n",
       "      <td>10002610</td>\n",
       "      <td>0</td>\n",
       "    </tr>\n",
       "    <tr>\n",
       "      <th>1</th>\n",
       "      <td>10019463</td>\n",
       "      <td>0</td>\n",
       "    </tr>\n",
       "    <tr>\n",
       "      <th>2</th>\n",
       "      <td>10019621</td>\n",
       "      <td>0</td>\n",
       "    </tr>\n",
       "    <tr>\n",
       "      <th>3</th>\n",
       "      <td>10023981</td>\n",
       "      <td>0</td>\n",
       "    </tr>\n",
       "    <tr>\n",
       "      <th>4</th>\n",
       "      <td>10023982</td>\n",
       "      <td>0</td>\n",
       "    </tr>\n",
       "    <tr>\n",
       "      <th>...</th>\n",
       "      <td>...</td>\n",
       "      <td>...</td>\n",
       "    </tr>\n",
       "    <tr>\n",
       "      <th>23256</th>\n",
       "      <td>9950538</td>\n",
       "      <td>0</td>\n",
       "    </tr>\n",
       "    <tr>\n",
       "      <th>23257</th>\n",
       "      <td>9959321</td>\n",
       "      <td>0</td>\n",
       "    </tr>\n",
       "    <tr>\n",
       "      <th>23258</th>\n",
       "      <td>9961087</td>\n",
       "      <td>0</td>\n",
       "    </tr>\n",
       "    <tr>\n",
       "      <th>23259</th>\n",
       "      <td>9976515</td>\n",
       "      <td>0</td>\n",
       "    </tr>\n",
       "    <tr>\n",
       "      <th>23260</th>\n",
       "      <td>9994833</td>\n",
       "      <td>1</td>\n",
       "    </tr>\n",
       "  </tbody>\n",
       "</table>\n",
       "<p>23261 rows × 2 columns</p>\n",
       "</div>"
      ],
      "text/plain": [
       "      DOC_PACIENTE  ADSCRITO\n",
       "0         10002610         0\n",
       "1         10019463         0\n",
       "2         10019621         0\n",
       "3         10023981         0\n",
       "4         10023982         0\n",
       "...            ...       ...\n",
       "23256      9950538         0\n",
       "23257      9959321         0\n",
       "23258      9961087         0\n",
       "23259      9976515         0\n",
       "23260      9994833         1\n",
       "\n",
       "[23261 rows x 2 columns]"
      ]
     },
     "execution_count": 92,
     "metadata": {},
     "output_type": "execute_result"
    }
   ],
   "source": [
    "pacientes_con_sin_adscripcion"
   ]
  },
  {
   "cell_type": "code",
   "execution_count": 93,
   "id": "3d08c5c7",
   "metadata": {},
   "outputs": [],
   "source": [
    "pac_con_adscripcion = pacientes_con_sin_adscripcion[pacientes_con_sin_adscripcion.ADSCRITO == 1]['DOC_PACIENTE']\n",
    "pac_sin_adscripcion = pacientes_con_sin_adscripcion[pacientes_con_sin_adscripcion.ADSCRITO == 0]['DOC_PACIENTE']"
   ]
  },
  {
   "cell_type": "code",
   "execution_count": 94,
   "id": "4a8fff27",
   "metadata": {},
   "outputs": [
    {
     "data": {
      "text/plain": [
       "(3073,)"
      ]
     },
     "execution_count": 94,
     "metadata": {},
     "output_type": "execute_result"
    }
   ],
   "source": [
    "pac_con_adscripcion.shape"
   ]
  },
  {
   "cell_type": "code",
   "execution_count": 95,
   "id": "924b8518",
   "metadata": {},
   "outputs": [
    {
     "data": {
      "text/plain": [
       "(20188,)"
      ]
     },
     "execution_count": 95,
     "metadata": {},
     "output_type": "execute_result"
    }
   ],
   "source": [
    "pac_sin_adscripcion.shape"
   ]
  },
  {
   "cell_type": "code",
   "execution_count": 96,
   "id": "6a03ea27",
   "metadata": {},
   "outputs": [
    {
     "data": {
      "text/plain": [
       "23261"
      ]
     },
     "execution_count": 96,
     "metadata": {},
     "output_type": "execute_result"
    }
   ],
   "source": [
    "table.DOC_PACIENTE.nunique()"
   ]
  },
  {
   "cell_type": "code",
   "execution_count": 97,
   "id": "46d1c639",
   "metadata": {},
   "outputs": [],
   "source": [
    "con_adscripcion  = table[table.DOC_PACIENTE.isin(pac_con_adscripcion)]"
   ]
  },
  {
   "cell_type": "code",
   "execution_count": 98,
   "id": "91df7d06",
   "metadata": {},
   "outputs": [],
   "source": [
    "sin_adscripcion  = table[table.DOC_PACIENTE.isin(pac_sin_adscripcion)]"
   ]
  },
  {
   "cell_type": "code",
   "execution_count": 99,
   "id": "61dd57e2",
   "metadata": {},
   "outputs": [
    {
     "name": "stderr",
     "output_type": "stream",
     "text": [
      "C:\\Users\\ANDRE\\AppData\\Local\\Temp\\ipykernel_3636\\2018811733.py:1: SettingWithCopyWarning: \n",
      "A value is trying to be set on a copy of a slice from a DataFrame.\n",
      "Try using .loc[row_indexer,col_indexer] = value instead\n",
      "\n",
      "See the caveats in the documentation: https://pandas.pydata.org/pandas-docs/stable/user_guide/indexing.html#returning-a-view-versus-a-copy\n",
      "  con_adscripcion.loc[:, 'NUEVO_CENTRO'] = con_adscripcion.groupby('DOC_PACIENTE')['ADSCRITO'].transform('max')\n"
     ]
    }
   ],
   "source": [
    "con_adscripcion.loc[:, 'NUEVO_CENTRO'] = con_adscripcion.groupby('DOC_PACIENTE')['ADSCRITO'].transform('max')\n"
   ]
  },
  {
   "cell_type": "code",
   "execution_count": 100,
   "id": "163e9519",
   "metadata": {},
   "outputs": [
    {
     "name": "stderr",
     "output_type": "stream",
     "text": [
      "C:\\Users\\ANDRE\\AppData\\Local\\Temp\\ipykernel_3636\\3114730906.py:1: SettingWithCopyWarning: \n",
      "A value is trying to be set on a copy of a slice from a DataFrame.\n",
      "Try using .loc[row_indexer,col_indexer] = value instead\n",
      "\n",
      "See the caveats in the documentation: https://pandas.pydata.org/pandas-docs/stable/user_guide/indexing.html#returning-a-view-versus-a-copy\n",
      "  sin_adscripcion.loc[:,'NUEVO_CENTRO'] = sin_adscripcion.groupby('DOC_PACIENTE')['CENTRO'].transform('first')\n"
     ]
    }
   ],
   "source": [
    "sin_adscripcion.loc[:,'NUEVO_CENTRO'] = sin_adscripcion.groupby('DOC_PACIENTE')['CENTRO'].transform('first')\n"
   ]
  },
  {
   "cell_type": "code",
   "execution_count": 101,
   "id": "c7fd835d",
   "metadata": {},
   "outputs": [
    {
     "name": "stdout",
     "output_type": "stream",
     "text": [
      "(15550, 11) (58833, 11) (74383, 10)\n"
     ]
    }
   ],
   "source": [
    "print(con_adscripcion.shape, sin_adscripcion.shape, table.shape)"
   ]
  },
  {
   "cell_type": "code",
   "execution_count": 102,
   "id": "8ee9e0d3",
   "metadata": {},
   "outputs": [],
   "source": [
    "data = pd.concat([con_adscripcion, sin_adscripcion], ignore_index=True)\n"
   ]
  },
  {
   "cell_type": "code",
   "execution_count": 103,
   "id": "409c94ca",
   "metadata": {},
   "outputs": [],
   "source": [
    "data.sort_values(['DOC_PACIENTE','fecha'], inplace=True)"
   ]
  },
  {
   "cell_type": "code",
   "execution_count": 104,
   "id": "b9a6ca07",
   "metadata": {},
   "outputs": [
    {
     "name": "stdout",
     "output_type": "stream",
     "text": [
      "<class 'pandas.core.frame.DataFrame'>\n",
      "Index: 74383 entries, 15550 to 15549\n",
      "Data columns (total 11 columns):\n",
      " #   Column        Non-Null Count  Dtype         \n",
      "---  ------        --------------  -----         \n",
      " 0   CENTRO        74383 non-null  int64         \n",
      " 1   ADSCRITO      5763 non-null   float64       \n",
      " 2   DOC_PACIENTE  74383 non-null  object        \n",
      " 3   PACIENTE      74383 non-null  object        \n",
      " 4   AUTOGENERADO  74383 non-null  object        \n",
      " 5   SEXO          74383 non-null  object        \n",
      " 6   EDAD          74383 non-null  int64         \n",
      " 7   MORB_1        29375 non-null  object        \n",
      " 8   MORB_2        54844 non-null  object        \n",
      " 9   fecha         74383 non-null  datetime64[ns]\n",
      " 10  NUEVO_CENTRO  74383 non-null  float64       \n",
      "dtypes: datetime64[ns](1), float64(2), int64(2), object(6)\n",
      "memory usage: 6.8+ MB\n"
     ]
    }
   ],
   "source": [
    "data.info()"
   ]
  },
  {
   "cell_type": "code",
   "execution_count": 105,
   "id": "bafdee85",
   "metadata": {},
   "outputs": [
    {
     "data": {
      "text/html": [
       "<div>\n",
       "<style scoped>\n",
       "    .dataframe tbody tr th:only-of-type {\n",
       "        vertical-align: middle;\n",
       "    }\n",
       "\n",
       "    .dataframe tbody tr th {\n",
       "        vertical-align: top;\n",
       "    }\n",
       "\n",
       "    .dataframe thead th {\n",
       "        text-align: right;\n",
       "    }\n",
       "</style>\n",
       "<table border=\"1\" class=\"dataframe\">\n",
       "  <thead>\n",
       "    <tr style=\"text-align: right;\">\n",
       "      <th></th>\n",
       "      <th>CENTRO</th>\n",
       "      <th>ADSCRITO</th>\n",
       "      <th>DOC_PACIENTE</th>\n",
       "      <th>PACIENTE</th>\n",
       "      <th>AUTOGENERADO</th>\n",
       "      <th>SEXO</th>\n",
       "      <th>EDAD</th>\n",
       "      <th>MORB_1</th>\n",
       "      <th>MORB_2</th>\n",
       "      <th>fecha</th>\n",
       "      <th>NUEVO_CENTRO</th>\n",
       "    </tr>\n",
       "  </thead>\n",
       "  <tbody>\n",
       "    <tr>\n",
       "      <th>15550</th>\n",
       "      <td>113</td>\n",
       "      <td>NaN</td>\n",
       "      <td>10002610</td>\n",
       "      <td>SOTO HUAYLLASI WILBERT</td>\n",
       "      <td>7402211SOHYW006</td>\n",
       "      <td>M</td>\n",
       "      <td>47</td>\n",
       "      <td>DM</td>\n",
       "      <td>NaN</td>\n",
       "      <td>2021-08-26</td>\n",
       "      <td>113.0</td>\n",
       "    </tr>\n",
       "    <tr>\n",
       "      <th>15551</th>\n",
       "      <td>123</td>\n",
       "      <td>NaN</td>\n",
       "      <td>10019463</td>\n",
       "      <td>ROMERO VALER PERCY</td>\n",
       "      <td>4510261REVEP000</td>\n",
       "      <td>M</td>\n",
       "      <td>75</td>\n",
       "      <td>NaN</td>\n",
       "      <td>HTA</td>\n",
       "      <td>2021-06-22</td>\n",
       "      <td>123.0</td>\n",
       "    </tr>\n",
       "    <tr>\n",
       "      <th>15552</th>\n",
       "      <td>111</td>\n",
       "      <td>NaN</td>\n",
       "      <td>10019621</td>\n",
       "      <td>ZANABRIA TRUJILLO ELIZABET</td>\n",
       "      <td>7404020ZATJE004</td>\n",
       "      <td>F</td>\n",
       "      <td>45</td>\n",
       "      <td>DM</td>\n",
       "      <td>NaN</td>\n",
       "      <td>2019-04-05</td>\n",
       "      <td>111.0</td>\n",
       "    </tr>\n",
       "  </tbody>\n",
       "</table>\n",
       "</div>"
      ],
      "text/plain": [
       "       CENTRO  ADSCRITO DOC_PACIENTE                    PACIENTE  \\\n",
       "15550     113       NaN     10002610      SOTO HUAYLLASI WILBERT   \n",
       "15551     123       NaN     10019463          ROMERO VALER PERCY   \n",
       "15552     111       NaN     10019621  ZANABRIA TRUJILLO ELIZABET   \n",
       "\n",
       "          AUTOGENERADO SEXO  EDAD MORB_1 MORB_2      fecha  NUEVO_CENTRO  \n",
       "15550  7402211SOHYW006    M    47     DM    NaN 2021-08-26         113.0  \n",
       "15551  4510261REVEP000    M    75    NaN    HTA 2021-06-22         123.0  \n",
       "15552  7404020ZATJE004    F    45     DM    NaN 2019-04-05         111.0  "
      ]
     },
     "execution_count": 105,
     "metadata": {},
     "output_type": "execute_result"
    }
   ],
   "source": [
    "data.head(3)"
   ]
  },
  {
   "cell_type": "code",
   "execution_count": 106,
   "id": "e2d54928",
   "metadata": {},
   "outputs": [],
   "source": [
    "data = data.sort_values(['DOC_PACIENTE','fecha'])"
   ]
  },
  {
   "cell_type": "code",
   "execution_count": 107,
   "id": "dcd1beb7",
   "metadata": {},
   "outputs": [],
   "source": [
    "data['index'] = data.reset_index().index"
   ]
  },
  {
   "cell_type": "code",
   "execution_count": 108,
   "id": "eb443763",
   "metadata": {},
   "outputs": [],
   "source": [
    "data['year'] = data.fecha.dt.year"
   ]
  },
  {
   "cell_type": "code",
   "execution_count": 109,
   "id": "2ddc8bb7",
   "metadata": {},
   "outputs": [],
   "source": [
    "data['trimestre'] = data.fecha.dt.quarter"
   ]
  },
  {
   "cell_type": "code",
   "execution_count": null,
   "id": "3f36fa9b",
   "metadata": {},
   "outputs": [],
   "source": []
  },
  {
   "cell_type": "code",
   "execution_count": 110,
   "id": "2dce4197",
   "metadata": {},
   "outputs": [],
   "source": [
    "#DM"
   ]
  },
  {
   "cell_type": "code",
   "execution_count": 111,
   "id": "7e662d43",
   "metadata": {},
   "outputs": [],
   "source": [
    "pacientes_con_dm = data.groupby('DOC_PACIENTE', as_index=False).MORB_1.count()"
   ]
  },
  {
   "cell_type": "code",
   "execution_count": 112,
   "id": "3679ee28",
   "metadata": {},
   "outputs": [],
   "source": [
    "pacientes_con_dm = pacientes_con_dm[pacientes_con_dm.MORB_1>0]['DOC_PACIENTE']"
   ]
  },
  {
   "cell_type": "code",
   "execution_count": 113,
   "id": "834174b0",
   "metadata": {},
   "outputs": [],
   "source": [
    "dm = data[data.DOC_PACIENTE.isin(pacientes_con_dm)]"
   ]
  },
  {
   "cell_type": "code",
   "execution_count": 114,
   "id": "973330e5",
   "metadata": {},
   "outputs": [],
   "source": [
    "dm = dm[dm.MORB_1 == 'DM']"
   ]
  },
  {
   "cell_type": "code",
   "execution_count": 115,
   "id": "826432de",
   "metadata": {
    "scrolled": true
   },
   "outputs": [],
   "source": [
    "dm_n_r = dm.groupby(['DOC_PACIENTE','year'], as_index=False)['index'].first()"
   ]
  },
  {
   "cell_type": "code",
   "execution_count": 116,
   "id": "90890162",
   "metadata": {},
   "outputs": [],
   "source": [
    "dm_n = dm_n_r.groupby('DOC_PACIENTE',as_index=False)['index'].first()"
   ]
  },
  {
   "cell_type": "code",
   "execution_count": 117,
   "id": "0aa8645e",
   "metadata": {},
   "outputs": [],
   "source": [
    "dm_n['N_R_C_SER'] = 'N'"
   ]
  },
  {
   "cell_type": "code",
   "execution_count": 118,
   "id": "7f439dba",
   "metadata": {},
   "outputs": [],
   "source": [
    "dm_n.drop(columns='DOC_PACIENTE', inplace=True)"
   ]
  },
  {
   "cell_type": "code",
   "execution_count": 119,
   "id": "fd0b103e",
   "metadata": {},
   "outputs": [],
   "source": [
    "dm_n_r = dm_n_r.merge(dm_n, on ='index', how='left')"
   ]
  },
  {
   "cell_type": "code",
   "execution_count": 120,
   "id": "2c1c60e2",
   "metadata": {},
   "outputs": [],
   "source": [
    "dm_n_r['N_R_C_SER'] = dm_n_r.N_R_C_SER.fillna('R')"
   ]
  },
  {
   "cell_type": "code",
   "execution_count": 121,
   "id": "b9c03865",
   "metadata": {},
   "outputs": [],
   "source": [
    "dm_n_r.drop(columns=['DOC_PACIENTE','year'], inplace=True)"
   ]
  },
  {
   "cell_type": "code",
   "execution_count": 122,
   "id": "fc1e5eaa",
   "metadata": {},
   "outputs": [],
   "source": [
    "dm = dm.merge(dm_n_r, on='index', how='left')"
   ]
  },
  {
   "cell_type": "code",
   "execution_count": 123,
   "id": "2778df32",
   "metadata": {},
   "outputs": [],
   "source": [
    "dm['N_R_C_SER'] = dm.N_R_C_SER.fillna('C')"
   ]
  },
  {
   "cell_type": "code",
   "execution_count": null,
   "id": "cc927ba0",
   "metadata": {},
   "outputs": [],
   "source": []
  },
  {
   "cell_type": "code",
   "execution_count": 124,
   "id": "73bf6de2",
   "metadata": {},
   "outputs": [],
   "source": [
    "# HTA"
   ]
  },
  {
   "cell_type": "code",
   "execution_count": 125,
   "id": "4bbf8bf6",
   "metadata": {},
   "outputs": [],
   "source": [
    "pacientes_con_hta = data.groupby('DOC_PACIENTE', as_index=False).MORB_2.count()\n",
    "pacientes_con_hta = pacientes_con_hta[pacientes_con_hta.MORB_2>0]['DOC_PACIENTE']\n",
    "hta = data[data.DOC_PACIENTE.isin(pacientes_con_hta)]\n",
    "hta = hta[hta.MORB_2 == 'HTA']\n",
    "hta_n_r = hta.groupby(['DOC_PACIENTE','year'], as_index=False)['index'].first()\n",
    "hta_n = hta_n_r.groupby('DOC_PACIENTE',as_index=False)['index'].first()\n",
    "hta_n['N_R_C_SER'] = 'N'\n",
    "hta_n.drop(columns='DOC_PACIENTE', inplace=True)\n",
    "hta_n_r = hta_n_r.merge(hta_n, on ='index', how='left')\n",
    "hta_n_r['N_R_C_SER'] = hta_n_r.N_R_C_SER.fillna('R')\n",
    "hta_n_r.drop(columns=['DOC_PACIENTE','year'], inplace=True)\n",
    "hta = hta.merge(hta_n_r, on='index', how='left')\n",
    "hta['N_R_C_SER'] = hta.N_R_C_SER.fillna('C')"
   ]
  },
  {
   "cell_type": "code",
   "execution_count": null,
   "id": "4cb28c54",
   "metadata": {},
   "outputs": [],
   "source": []
  },
  {
   "cell_type": "code",
   "execution_count": 126,
   "id": "dc31af7f",
   "metadata": {},
   "outputs": [],
   "source": [
    "unique_dm_array = dm['DOC_PACIENTE'].unique()\n",
    "unique_hta_array = hta['DOC_PACIENTE'].unique()\n"
   ]
  },
  {
   "cell_type": "code",
   "execution_count": 127,
   "id": "eaee92d8",
   "metadata": {},
   "outputs": [],
   "source": [
    "common_values = np.intersect1d(unique_dm_array, unique_hta_array)"
   ]
  },
  {
   "cell_type": "code",
   "execution_count": 128,
   "id": "62b64147",
   "metadata": {},
   "outputs": [],
   "source": [
    "common_values = common_values.tolist()"
   ]
  },
  {
   "cell_type": "code",
   "execution_count": 129,
   "id": "1d640958",
   "metadata": {},
   "outputs": [],
   "source": [
    "dm['MORB'] = 'DM'\n",
    "hta['MORB'] = 'HTA'"
   ]
  },
  {
   "cell_type": "code",
   "execution_count": 130,
   "id": "04dcc7b8",
   "metadata": {},
   "outputs": [],
   "source": [
    "dm_hta = pd.concat([dm, hta], ignore_index=True)"
   ]
  },
  {
   "cell_type": "code",
   "execution_count": 131,
   "id": "34cdf53f",
   "metadata": {},
   "outputs": [],
   "source": [
    "dm_hta = dm_hta.loc[:,['CENTRO','ADSCRITO','NUEVO_CENTRO','DOC_PACIENTE','AUTOGENERADO','PACIENTE','SEXO','EDAD','MORB','fecha','trimestre','N_R_C_SER']]"
   ]
  },
  {
   "cell_type": "code",
   "execution_count": 132,
   "id": "c3cadd52",
   "metadata": {},
   "outputs": [],
   "source": [
    "datos_2019 = dm_hta[dm_hta.fecha.dt.year == 2019]\n",
    "datos_2020 = dm_hta[dm_hta.fecha.dt.year == 2020]\n",
    "datos_2021 = dm_hta[dm_hta.fecha.dt.year == 2021]\n",
    "datos_2022 = dm_hta[dm_hta.fecha.dt.year == 2022]"
   ]
  },
  {
   "cell_type": "code",
   "execution_count": 133,
   "id": "077983f0",
   "metadata": {},
   "outputs": [],
   "source": [
    "def mixtos(df):\n",
    "    cantidad_morb = df.groupby('DOC_PACIENTE',as_index=False).MORB.nunique()\n",
    "    paciente_con_dos_morb = cantidad_morb[cantidad_morb.MORB>1]\n",
    "    paciente_con_dos_morb['mixto'] = 'mixto'\n",
    "    paciente_con_dos_morb = paciente_con_dos_morb.loc[:,['DOC_PACIENTE','mixto']]\n",
    "    df = df.merge(paciente_con_dos_morb, on='DOC_PACIENTE',how='left')\n",
    "    return df\n"
   ]
  },
  {
   "cell_type": "code",
   "execution_count": 134,
   "id": "e6a39ba3",
   "metadata": {},
   "outputs": [
    {
     "name": "stderr",
     "output_type": "stream",
     "text": [
      "C:\\Users\\ANDRE\\AppData\\Local\\Temp\\ipykernel_3636\\1583458447.py:4: SettingWithCopyWarning: \n",
      "A value is trying to be set on a copy of a slice from a DataFrame.\n",
      "Try using .loc[row_indexer,col_indexer] = value instead\n",
      "\n",
      "See the caveats in the documentation: https://pandas.pydata.org/pandas-docs/stable/user_guide/indexing.html#returning-a-view-versus-a-copy\n",
      "  paciente_con_dos_morb['mixto'] = 'mixto'\n",
      "C:\\Users\\ANDRE\\AppData\\Local\\Temp\\ipykernel_3636\\1583458447.py:4: SettingWithCopyWarning: \n",
      "A value is trying to be set on a copy of a slice from a DataFrame.\n",
      "Try using .loc[row_indexer,col_indexer] = value instead\n",
      "\n",
      "See the caveats in the documentation: https://pandas.pydata.org/pandas-docs/stable/user_guide/indexing.html#returning-a-view-versus-a-copy\n",
      "  paciente_con_dos_morb['mixto'] = 'mixto'\n",
      "C:\\Users\\ANDRE\\AppData\\Local\\Temp\\ipykernel_3636\\1583458447.py:4: SettingWithCopyWarning: \n",
      "A value is trying to be set on a copy of a slice from a DataFrame.\n",
      "Try using .loc[row_indexer,col_indexer] = value instead\n",
      "\n",
      "See the caveats in the documentation: https://pandas.pydata.org/pandas-docs/stable/user_guide/indexing.html#returning-a-view-versus-a-copy\n",
      "  paciente_con_dos_morb['mixto'] = 'mixto'\n",
      "C:\\Users\\ANDRE\\AppData\\Local\\Temp\\ipykernel_3636\\1583458447.py:4: SettingWithCopyWarning: \n",
      "A value is trying to be set on a copy of a slice from a DataFrame.\n",
      "Try using .loc[row_indexer,col_indexer] = value instead\n",
      "\n",
      "See the caveats in the documentation: https://pandas.pydata.org/pandas-docs/stable/user_guide/indexing.html#returning-a-view-versus-a-copy\n",
      "  paciente_con_dos_morb['mixto'] = 'mixto'\n"
     ]
    }
   ],
   "source": [
    "datos_2019 = mixtos(datos_2019)\n",
    "datos_2020 = mixtos(datos_2020)\n",
    "datos_2021 = mixtos(datos_2021)\n",
    "datos_2022 = mixtos(datos_2022)\n"
   ]
  },
  {
   "cell_type": "code",
   "execution_count": 135,
   "id": "05d2f569",
   "metadata": {},
   "outputs": [
    {
     "data": {
      "text/html": [
       "<div>\n",
       "<style scoped>\n",
       "    .dataframe tbody tr th:only-of-type {\n",
       "        vertical-align: middle;\n",
       "    }\n",
       "\n",
       "    .dataframe tbody tr th {\n",
       "        vertical-align: top;\n",
       "    }\n",
       "\n",
       "    .dataframe thead th {\n",
       "        text-align: right;\n",
       "    }\n",
       "</style>\n",
       "<table border=\"1\" class=\"dataframe\">\n",
       "  <thead>\n",
       "    <tr style=\"text-align: right;\">\n",
       "      <th></th>\n",
       "      <th>CENTRO</th>\n",
       "      <th>ADSCRITO</th>\n",
       "      <th>NUEVO_CENTRO</th>\n",
       "      <th>DOC_PACIENTE</th>\n",
       "      <th>AUTOGENERADO</th>\n",
       "      <th>PACIENTE</th>\n",
       "      <th>SEXO</th>\n",
       "      <th>EDAD</th>\n",
       "      <th>MORB</th>\n",
       "      <th>fecha</th>\n",
       "      <th>trimestre</th>\n",
       "      <th>N_R_C_SER</th>\n",
       "      <th>mixto</th>\n",
       "    </tr>\n",
       "  </thead>\n",
       "  <tbody>\n",
       "    <tr>\n",
       "      <th>0</th>\n",
       "      <td>111</td>\n",
       "      <td>NaN</td>\n",
       "      <td>111.0</td>\n",
       "      <td>10019621</td>\n",
       "      <td>7404020ZATJE004</td>\n",
       "      <td>ZANABRIA TRUJILLO ELIZABET</td>\n",
       "      <td>F</td>\n",
       "      <td>45</td>\n",
       "      <td>DM</td>\n",
       "      <td>2019-04-05</td>\n",
       "      <td>2</td>\n",
       "      <td>N</td>\n",
       "      <td>NaN</td>\n",
       "    </tr>\n",
       "    <tr>\n",
       "      <th>1</th>\n",
       "      <td>418</td>\n",
       "      <td>NaN</td>\n",
       "      <td>418.0</td>\n",
       "      <td>10041439</td>\n",
       "      <td>6510061LECSM007</td>\n",
       "      <td>LOPEZ CHISTAMA MARDEN</td>\n",
       "      <td>M</td>\n",
       "      <td>53</td>\n",
       "      <td>DM</td>\n",
       "      <td>2019-09-11</td>\n",
       "      <td>3</td>\n",
       "      <td>N</td>\n",
       "      <td>NaN</td>\n",
       "    </tr>\n",
       "    <tr>\n",
       "      <th>2</th>\n",
       "      <td>418</td>\n",
       "      <td>NaN</td>\n",
       "      <td>418.0</td>\n",
       "      <td>10061482</td>\n",
       "      <td>4712080LOZBC001</td>\n",
       "      <td>LAZO ZAMBRANO DE MEDINA CONCEPCION ADELINA</td>\n",
       "      <td>F</td>\n",
       "      <td>71</td>\n",
       "      <td>DM</td>\n",
       "      <td>2019-01-04</td>\n",
       "      <td>1</td>\n",
       "      <td>N</td>\n",
       "      <td>mixto</td>\n",
       "    </tr>\n",
       "  </tbody>\n",
       "</table>\n",
       "</div>"
      ],
      "text/plain": [
       "   CENTRO  ADSCRITO  NUEVO_CENTRO DOC_PACIENTE     AUTOGENERADO  \\\n",
       "0     111       NaN         111.0     10019621  7404020ZATJE004   \n",
       "1     418       NaN         418.0     10041439  6510061LECSM007   \n",
       "2     418       NaN         418.0     10061482  4712080LOZBC001   \n",
       "\n",
       "                                     PACIENTE SEXO  EDAD MORB      fecha  \\\n",
       "0                  ZANABRIA TRUJILLO ELIZABET    F    45   DM 2019-04-05   \n",
       "1                       LOPEZ CHISTAMA MARDEN    M    53   DM 2019-09-11   \n",
       "2  LAZO ZAMBRANO DE MEDINA CONCEPCION ADELINA    F    71   DM 2019-01-04   \n",
       "\n",
       "   trimestre N_R_C_SER  mixto  \n",
       "0          2         N    NaN  \n",
       "1          3         N    NaN  \n",
       "2          1         N  mixto  "
      ]
     },
     "execution_count": 135,
     "metadata": {},
     "output_type": "execute_result"
    }
   ],
   "source": [
    "datos_2019.head(3)"
   ]
  },
  {
   "cell_type": "code",
   "execution_count": 136,
   "id": "306b8c24",
   "metadata": {},
   "outputs": [],
   "source": [
    "datos = pd.concat([datos_2019, datos_2020, datos_2021, datos_2022], ignore_index=True)"
   ]
  },
  {
   "cell_type": "code",
   "execution_count": null,
   "id": "fa577dac",
   "metadata": {},
   "outputs": [],
   "source": []
  },
  {
   "cell_type": "code",
   "execution_count": 137,
   "id": "cc097669",
   "metadata": {},
   "outputs": [
    {
     "data": {
      "text/plain": [
       "(84219, 13)"
      ]
     },
     "execution_count": 137,
     "metadata": {},
     "output_type": "execute_result"
    }
   ],
   "source": [
    "datos.shape"
   ]
  },
  {
   "cell_type": "code",
   "execution_count": 138,
   "id": "b801681a",
   "metadata": {},
   "outputs": [
    {
     "name": "stdout",
     "output_type": "stream",
     "text": [
      "(19684, 13) (12573, 13) (25089, 13) (26873, 13)\n"
     ]
    }
   ],
   "source": [
    "print(datos_2019.shape, datos_2020.shape, datos_2021.shape, datos_2022.shape )"
   ]
  },
  {
   "cell_type": "code",
   "execution_count": 139,
   "id": "05dafdde",
   "metadata": {},
   "outputs": [],
   "source": [
    "datos['año']=datos.fecha.dt.year\n",
    "datos['mes']=datos.fecha.dt.month_name()\n",
    "datos['mes_numero'] = datos.fecha.dt.month\n",
    " "
   ]
  },
  {
   "cell_type": "code",
   "execution_count": 140,
   "id": "41819c54",
   "metadata": {},
   "outputs": [
    {
     "data": {
      "text/html": [
       "<div>\n",
       "<style scoped>\n",
       "    .dataframe tbody tr th:only-of-type {\n",
       "        vertical-align: middle;\n",
       "    }\n",
       "\n",
       "    .dataframe tbody tr th {\n",
       "        vertical-align: top;\n",
       "    }\n",
       "\n",
       "    .dataframe thead th {\n",
       "        text-align: right;\n",
       "    }\n",
       "</style>\n",
       "<table border=\"1\" class=\"dataframe\">\n",
       "  <thead>\n",
       "    <tr style=\"text-align: right;\">\n",
       "      <th></th>\n",
       "      <th>CENTRO</th>\n",
       "      <th>ADSCRITO</th>\n",
       "      <th>NUEVO_CENTRO</th>\n",
       "      <th>DOC_PACIENTE</th>\n",
       "      <th>AUTOGENERADO</th>\n",
       "      <th>PACIENTE</th>\n",
       "      <th>SEXO</th>\n",
       "      <th>EDAD</th>\n",
       "      <th>MORB</th>\n",
       "      <th>fecha</th>\n",
       "      <th>trimestre</th>\n",
       "      <th>N_R_C_SER</th>\n",
       "      <th>mixto</th>\n",
       "      <th>año</th>\n",
       "      <th>mes</th>\n",
       "      <th>mes_numero</th>\n",
       "    </tr>\n",
       "  </thead>\n",
       "  <tbody>\n",
       "    <tr>\n",
       "      <th>0</th>\n",
       "      <td>111</td>\n",
       "      <td>NaN</td>\n",
       "      <td>111.0</td>\n",
       "      <td>10019621</td>\n",
       "      <td>7404020ZATJE004</td>\n",
       "      <td>ZANABRIA TRUJILLO ELIZABET</td>\n",
       "      <td>F</td>\n",
       "      <td>45</td>\n",
       "      <td>DM</td>\n",
       "      <td>2019-04-05</td>\n",
       "      <td>2</td>\n",
       "      <td>N</td>\n",
       "      <td>NaN</td>\n",
       "      <td>2019</td>\n",
       "      <td>April</td>\n",
       "      <td>4</td>\n",
       "    </tr>\n",
       "    <tr>\n",
       "      <th>1</th>\n",
       "      <td>418</td>\n",
       "      <td>NaN</td>\n",
       "      <td>418.0</td>\n",
       "      <td>10041439</td>\n",
       "      <td>6510061LECSM007</td>\n",
       "      <td>LOPEZ CHISTAMA MARDEN</td>\n",
       "      <td>M</td>\n",
       "      <td>53</td>\n",
       "      <td>DM</td>\n",
       "      <td>2019-09-11</td>\n",
       "      <td>3</td>\n",
       "      <td>N</td>\n",
       "      <td>NaN</td>\n",
       "      <td>2019</td>\n",
       "      <td>September</td>\n",
       "      <td>9</td>\n",
       "    </tr>\n",
       "    <tr>\n",
       "      <th>2</th>\n",
       "      <td>418</td>\n",
       "      <td>NaN</td>\n",
       "      <td>418.0</td>\n",
       "      <td>10061482</td>\n",
       "      <td>4712080LOZBC001</td>\n",
       "      <td>LAZO ZAMBRANO DE MEDINA CONCEPCION ADELINA</td>\n",
       "      <td>F</td>\n",
       "      <td>71</td>\n",
       "      <td>DM</td>\n",
       "      <td>2019-01-04</td>\n",
       "      <td>1</td>\n",
       "      <td>N</td>\n",
       "      <td>mixto</td>\n",
       "      <td>2019</td>\n",
       "      <td>January</td>\n",
       "      <td>1</td>\n",
       "    </tr>\n",
       "  </tbody>\n",
       "</table>\n",
       "</div>"
      ],
      "text/plain": [
       "   CENTRO  ADSCRITO  NUEVO_CENTRO DOC_PACIENTE     AUTOGENERADO  \\\n",
       "0     111       NaN         111.0     10019621  7404020ZATJE004   \n",
       "1     418       NaN         418.0     10041439  6510061LECSM007   \n",
       "2     418       NaN         418.0     10061482  4712080LOZBC001   \n",
       "\n",
       "                                     PACIENTE SEXO  EDAD MORB      fecha  \\\n",
       "0                  ZANABRIA TRUJILLO ELIZABET    F    45   DM 2019-04-05   \n",
       "1                       LOPEZ CHISTAMA MARDEN    M    53   DM 2019-09-11   \n",
       "2  LAZO ZAMBRANO DE MEDINA CONCEPCION ADELINA    F    71   DM 2019-01-04   \n",
       "\n",
       "   trimestre N_R_C_SER  mixto   año        mes  mes_numero  \n",
       "0          2         N    NaN  2019      April           4  \n",
       "1          3         N    NaN  2019  September           9  \n",
       "2          1         N  mixto  2019    January           1  "
      ]
     },
     "execution_count": 140,
     "metadata": {},
     "output_type": "execute_result"
    }
   ],
   "source": [
    "datos.head(3)"
   ]
  },
  {
   "cell_type": "code",
   "execution_count": null,
   "id": "f1430293",
   "metadata": {},
   "outputs": [],
   "source": []
  },
  {
   "cell_type": "code",
   "execution_count": 141,
   "id": "0348e108",
   "metadata": {},
   "outputs": [],
   "source": [
    "datos.to_csv(clean_path+'/datos.csv', index=False, encoding='latin-1')"
   ]
  },
  {
   "cell_type": "code",
   "execution_count": null,
   "id": "91ee5270",
   "metadata": {},
   "outputs": [],
   "source": []
  },
  {
   "cell_type": "code",
   "execution_count": null,
   "id": "e4518026",
   "metadata": {},
   "outputs": [],
   "source": []
  },
  {
   "cell_type": "code",
   "execution_count": null,
   "id": "1bda8c78",
   "metadata": {},
   "outputs": [],
   "source": []
  }
 ],
 "metadata": {
  "kernelspec": {
   "display_name": "Python 3 (ipykernel)",
   "language": "python",
   "name": "python3"
  },
  "language_info": {
   "codemirror_mode": {
    "name": "ipython",
    "version": 3
   },
   "file_extension": ".py",
   "mimetype": "text/x-python",
   "name": "python",
   "nbconvert_exporter": "python",
   "pygments_lexer": "ipython3",
   "version": "3.11.5"
  }
 },
 "nbformat": 4,
 "nbformat_minor": 5
}
